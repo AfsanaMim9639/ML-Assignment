{
 "cells": [
  {
   "cell_type": "markdown",
   "id": "de30a42a-f1cb-412f-8c69-0c107c821acc",
   "metadata": {},
   "source": [
    "# Basic Problems:"
   ]
  },
  {
   "cell_type": "markdown",
   "id": "790f3505-6318-4318-b5ef-d393b7fa85dc",
   "metadata": {},
   "source": [
    "## 1. Variable Swap"
   ]
  },
  {
   "cell_type": "code",
   "execution_count": 1,
   "id": "74eb9a50-81c9-485b-b4c4-b32e6f206801",
   "metadata": {},
   "outputs": [
    {
     "name": "stdout",
     "output_type": "stream",
     "text": [
      "Value of x: 50\n",
      "Value of y: 10\n"
     ]
    }
   ],
   "source": [
    "x = 10\n",
    "y = 50\n",
    "temp = x\n",
    "x = y\n",
    "y = temp\n",
    "\n",
    "print(\"Value of x:\", x)\n",
    "print(\"Value of y:\", y)\n"
   ]
  },
  {
   "cell_type": "markdown",
   "id": "49716fb1-4952-4a04-8d61-5d305322007a",
   "metadata": {},
   "source": [
    "## 2. Even or Odd"
   ]
  },
  {
   "cell_type": "code",
   "execution_count": 2,
   "id": "f14669d3-8f4d-4691-9707-4a3e46d24fc8",
   "metadata": {},
   "outputs": [
    {
     "name": "stdout",
     "output_type": "stream",
     "text": [
      "Even\n",
      "Odd\n"
     ]
    }
   ],
   "source": [
    "x = 24 \n",
    "# Check the remainder dividing x by 2 is 0\n",
    "if x % 2 == 0:\n",
    "    print(\"Even\")\n",
    "else:\n",
    "    print(\"Odd\")\n",
    "\n",
    "# Checking another number    \n",
    "x = 7\n",
    "\n",
    "if x % 2 == 0:\n",
    "\n",
    "  print(\"Even\")\n",
    "else:\n",
    "    print(\"Odd\")"
   ]
  },
  {
   "cell_type": "markdown",
   "id": "3cb8b5a8-dc4e-4fe1-88ef-75d11a4a9e5d",
   "metadata": {},
   "source": [
    "## 3. String Reverse"
   ]
  },
  {
   "cell_type": "code",
   "execution_count": 3,
   "id": "b8f75643-59b6-444f-bd72-42d3bda33c03",
   "metadata": {},
   "outputs": [
    {
     "name": "stdout",
     "output_type": "stream",
     "text": [
      "nohtyP nI esreveR sgnirtS\n"
     ]
    }
   ],
   "source": [
    "def reverse_function(x):\n",
    "  return x[::-1]\n",
    "\n",
    "mytxt = reverse_function(\"Strings Reverse In Python\")\n",
    "\n",
    "print(mytxt)"
   ]
  },
  {
   "cell_type": "markdown",
   "id": "60aec959-73e5-4ba3-86cc-0b14e0ea70a5",
   "metadata": {},
   "source": [
    "## 4. Type Conversion"
   ]
  },
  {
   "cell_type": "code",
   "execution_count": 4,
   "id": "06048e3d-a17c-4a7b-a1d9-bd495e039e48",
   "metadata": {},
   "outputs": [
    {
     "name": "stdout",
     "output_type": "stream",
     "text": [
      "42\n"
     ]
    }
   ],
   "source": [
    "n = 42\n",
    "\n",
    "# Convert integer to string\n",
    "s = str(n)\n",
    "\n",
    "print(s)"
   ]
  },
  {
   "cell_type": "markdown",
   "id": "445cc044-5555-4ed7-adcb-61c6e5b5b5db",
   "metadata": {},
   "source": [
    "## 5. Temperature Converter"
   ]
  },
  {
   "cell_type": "code",
   "execution_count": 5,
   "id": "18d4b714-628c-4b67-aba3-f2a4805b1364",
   "metadata": {},
   "outputs": [
    {
     "name": "stdout",
     "output_type": "stream",
     "text": [
      "47.00 Celsius is equivalent to: 116.60 Fahrenheit\n"
     ]
    }
   ],
   "source": [
    "# Temperature in celsius degree\n",
    "celsius = 47\n",
    "\n",
    "# Converting the temperature to\n",
    "# fehrenheit using the formula\n",
    "fahrenheit = (celsius * 1.8) + 32\n",
    "\n",
    "# printing the result\n",
    "print('%.2f Celsius is equivalent to: %.2f Fahrenheit'\n",
    "\t% (celsius, fahrenheit))\n"
   ]
  },
  {
   "cell_type": "markdown",
   "id": "d69fa538-8723-4fc9-81fa-6d8259b2953d",
   "metadata": {},
   "source": [
    "## 6. Data Type Checker: "
   ]
  },
  {
   "cell_type": "code",
   "execution_count": 6,
   "id": "4b86ef3d-7857-4929-bb2b-169e13922675",
   "metadata": {},
   "outputs": [
    {
     "name": "stdout",
     "output_type": "stream",
     "text": [
      "<class 'int'>\n",
      "<class 'str'>\n",
      "<class 'float'>\n"
     ]
    }
   ],
   "source": [
    "x = 5\n",
    "print(type(x))\n",
    "\n",
    "y = \"Hello\"\n",
    "print(type(y))\n",
    "\n",
    "z = 5.8\n",
    "print(type(z))"
   ]
  },
  {
   "cell_type": "markdown",
   "id": "7e82ab72-e9c3-402c-a065-19fd5e7fc27e",
   "metadata": {},
   "source": [
    "## 7. String Palindrome: "
   ]
  },
  {
   "cell_type": "code",
   "execution_count": 7,
   "id": "b153b812-dacf-4b8a-9b83-90941197d627",
   "metadata": {},
   "outputs": [
    {
     "name": "stdout",
     "output_type": "stream",
     "text": [
      "Yes\n"
     ]
    }
   ],
   "source": [
    "# function which return reverse of a string\n",
    "\n",
    "def isPalindrome(s):\n",
    "    return s == s[::-1]\n",
    "\n",
    "\n",
    "# Driver code\n",
    "s = \"malayalam\"\n",
    "ans = isPalindrome(s)\n",
    "\n",
    "if ans:\n",
    "    print(\"Yes\")\n",
    "else:\n",
    "    print(\"No\")"
   ]
  },
  {
   "cell_type": "markdown",
   "id": "c5e81d24-5c87-4b77-be66-587cd261359b",
   "metadata": {},
   "source": [
    "## 8. String Reversal with Slicing:"
   ]
  },
  {
   "cell_type": "code",
   "execution_count": 8,
   "id": "e4507ce6-9cc3-4e53-aa06-1715723c3bf2",
   "metadata": {},
   "outputs": [
    {
     "name": "stdout",
     "output_type": "stream",
     "text": [
      "nohtyP nI esreveR sgnirtS\n"
     ]
    }
   ],
   "source": [
    "def reverse_function(x):\n",
    "  return x[::-1] # slicing the text\n",
    "\n",
    "mytxt = reverse_function(\"Strings Reverse In Python\")\n",
    "\n",
    "print(mytxt)"
   ]
  },
  {
   "cell_type": "markdown",
   "id": "684840e1-305b-42ee-888c-659ab2d0e356",
   "metadata": {},
   "source": [
    "## 9. String Concatenation:"
   ]
  },
  {
   "cell_type": "code",
   "execution_count": 9,
   "id": "367600e1-7d75-46c0-ace5-91124610f2d2",
   "metadata": {},
   "outputs": [
    {
     "name": "stdout",
     "output_type": "stream",
     "text": [
      "Hello World\n"
     ]
    }
   ],
   "source": [
    "s1 = \"Hello\"\n",
    "s2 = \"World\"\n",
    "res = s1 + \" \" + s2\n",
    "print(res)"
   ]
  },
  {
   "cell_type": "markdown",
   "id": "c4aec5e2-3976-4865-ac29-cbeceb959f23",
   "metadata": {},
   "source": [
    "## 10. Typecasting Challenge: \n"
   ]
  },
  {
   "cell_type": "code",
   "execution_count": 10,
   "id": "619025d4-547f-4af8-a041-29eddc9db05d",
   "metadata": {},
   "outputs": [
    {
     "name": "stdout",
     "output_type": "stream",
     "text": [
      "139.5\n"
     ]
    }
   ],
   "source": [
    "a = '100'\n",
    "b= 50\n",
    "c='10.5'\n",
    "s = int(a)\n",
    "s2 = float(c)\n",
    "add= s+b-s2\n",
    "\n",
    "print(add)"
   ]
  },
  {
   "cell_type": "markdown",
   "id": "6cfbcf17-9ac0-420b-9fa3-b37912a943e9",
   "metadata": {},
   "source": [
    "# Python Conditional Statements:"
   ]
  },
  {
   "cell_type": "markdown",
   "id": "f7e9e411-cc6a-469e-b385-897eb7d70088",
   "metadata": {},
   "source": [
    "## 11. Positive, Negative, or Zero:"
   ]
  },
  {
   "cell_type": "code",
   "execution_count": 11,
   "id": "f080871e-ce54-415b-9861-5663722c76da",
   "metadata": {},
   "outputs": [
    {
     "name": "stdout",
     "output_type": "stream",
     "text": [
      "['The number is Negative']\n"
     ]
    }
   ],
   "source": [
    "n=-3\n",
    "x=[\"The number is Positive\" if n>0 else \"The number is Negative\" if n<0 else \"zero\" ]\n",
    "print(x)"
   ]
  },
  {
   "cell_type": "markdown",
   "id": "ca0aa5aa-3d0e-4ddc-95f3-e60142c0edcd",
   "metadata": {},
   "source": [
    "## 12. Largest of Three Numbers"
   ]
  },
  {
   "cell_type": "code",
   "execution_count": 12,
   "id": "3b0ac62d-36c2-4b24-993e-2af94feca16b",
   "metadata": {},
   "outputs": [
    {
     "name": "stdout",
     "output_type": "stream",
     "text": [
      "7\n"
     ]
    }
   ],
   "source": [
    "a = 5\n",
    "b = 6\n",
    "c= 7\n",
    "print(max(a, b, c))"
   ]
  },
  {
   "cell_type": "markdown",
   "id": "01ba37ea-2871-44b2-a147-3e287a93f33f",
   "metadata": {},
   "source": [
    "## 13. Leap Year Checker:"
   ]
  },
  {
   "cell_type": "code",
   "execution_count": 13,
   "id": "8d9157bb-7344-4d58-b1dc-162a9cc0b358",
   "metadata": {},
   "outputs": [
    {
     "name": "stdout",
     "output_type": "stream",
     "text": [
      "2024 is a leap year: True\n"
     ]
    }
   ],
   "source": [
    "def is_leap_year_modulo(year):\n",
    "    return (year % 4 == 0 and year % 100 != 0) or (year % 400 == 0)\n",
    "\n",
    "# Example\n",
    "year_to_check = 2024\n",
    "result_modulo = is_leap_year_modulo(year_to_check)\n",
    "print(f\"{year_to_check} is a leap year: {result_modulo}\")"
   ]
  },
  {
   "cell_type": "markdown",
   "id": "af5f8680-b6c8-40d7-8969-ec60aaac262b",
   "metadata": {},
   "source": [
    "## 14. Grades Classification: "
   ]
  },
  {
   "cell_type": "code",
   "execution_count": 15,
   "id": "940e0501-4fbc-4743-943c-c105fa60a395",
   "metadata": {},
   "outputs": [],
   "source": [
    "def determine_grade(scores):\n",
    "    if scores >= 90 and scores <= 100:\n",
    "        return 'A'\n",
    "        print(scores)\n",
    "    elif scores >= 80 and scores <= 89:\n",
    "        return 'B'\n",
    "        print(scores)\n",
    "    elif scores >= 70 and scores <= 79:\n",
    "        return 'C'\n",
    "        print(scores)\n",
    "    elif scores >= 60 and scores <= 69:\n",
    "        return 'D'\n",
    "        print(scores)\n",
    "    elif scores >= 50 and scores <= 59:\n",
    "        return 'E'\n",
    "        print(scores)\n",
    "    else:\n",
    "        return 'F'\n",
    "        print(scores)\n",
    "\n"
   ]
  },
  {
   "cell_type": "markdown",
   "id": "a3474799-0c64-4ca6-908a-52d8ad67f8de",
   "metadata": {},
   "source": [
    "## 15. Vowel or Consonant:"
   ]
  },
  {
   "cell_type": "code",
   "execution_count": 16,
   "id": "99926d83-cfad-4cd3-8aab-f5900fd851eb",
   "metadata": {},
   "outputs": [
    {
     "name": "stdout",
     "output_type": "stream",
     "text": [
      "Consonant\n",
      "Vowel\n"
     ]
    }
   ],
   "source": [
    "\n",
    "def vowelOrConsonant(x): \n",
    "\n",
    "\tif (x == 'a' or x == 'e' or\n",
    "\t\tx == 'i' or x == 'o' or x == 'u'): \n",
    "\t\tprint(\"Vowel\") \n",
    "\telse: \n",
    "\t\tprint(\"Consonant\") \n",
    "\n",
    "# Driver code \n",
    "vowelOrConsonant('c') \n",
    "vowelOrConsonant('e') \n",
    "\t\n"
   ]
  },
  {
   "cell_type": "markdown",
   "id": "e0ab5b24-f03d-432b-89d0-c6d6e4db0044",
   "metadata": {},
   "source": [
    "## 16. Time Classification: "
   ]
  },
  {
   "cell_type": "code",
   "execution_count": 17,
   "id": "10271224-36bb-48f6-ad61-7863b0171fda",
   "metadata": {},
   "outputs": [
    {
     "name": "stdout",
     "output_type": "stream",
     "text": [
      "Good morning!\n"
     ]
    }
   ],
   "source": [
    "import datetime\n",
    "now = datetime.datetime.now()\n",
    "hour = now.hour\n",
    "\n",
    "if hour < 12:\n",
    "    greeting = \"Good morning\"\n",
    "elif hour < 18:\n",
    "    greeting = \"Good afternoon\"\n",
    "else:\n",
    "    greeting = \"Good night\"\n",
    "\n",
    "print(\"{}!\".format(greeting))"
   ]
  },
  {
   "cell_type": "markdown",
   "id": "f711dae8-bf1f-4d6f-809f-eb81a349a18d",
   "metadata": {},
   "source": [
    "## 17. Triangle Type Checker:"
   ]
  },
  {
   "cell_type": "code",
   "execution_count": 18,
   "id": "6027fb4c-fbe3-4730-8813-9c4eeb194c39",
   "metadata": {},
   "outputs": [
    {
     "name": "stdin",
     "output_type": "stream",
     "text": [
      "Enter length of side a:  1\n",
      "Enter length of side b:  2\n",
      "Enter length of side c:  3\n"
     ]
    },
    {
     "name": "stdout",
     "output_type": "stream",
     "text": [
      "Triangle is Scalane\n"
     ]
    }
   ],
   "source": [
    "# Function definition to check validity\n",
    "def is_valid_triangle(a,b,c):\n",
    "    if a+b>=c and b+c>=a and c+a>=b:\n",
    "        return True\n",
    "    else:\n",
    "        return False\n",
    "\n",
    "# Function definition for type\n",
    "def type_of_triangle(a,b,c):\n",
    "    if a==b and b==c:\n",
    "        print('Triangle is Equilateral.')\n",
    "    elif a==b or b==c or a==c:\n",
    "        print('Triangle is Isosceles.')\n",
    "    else:\n",
    "        print('Triangle is Scalane')\n",
    "\n",
    "# Reading Three Sides\n",
    "side_a = float(input('Enter length of side a: '))\n",
    "side_b = float(input('Enter length of side b: '))\n",
    "side_c = float(input('Enter length of side c: '))\n",
    "\n",
    "# Function call & making decision\n",
    "if is_valid_triangle(side_a, side_b, side_c):\n",
    "    type_of_triangle(side_a, side_b, side_c)\n",
    "else:\n",
    "    print('Tringle is not possible from given sides.')"
   ]
  },
  {
   "cell_type": "markdown",
   "id": "2b26ba9d-7920-4ddc-886c-bd886b1875bf",
   "metadata": {},
   "source": [
    "## 18. Quadratic Equation Solver:"
   ]
  },
  {
   "cell_type": "code",
   "execution_count": 1,
   "id": "ae53b391-42fc-4cc4-9d04-89cd22c0fce9",
   "metadata": {},
   "outputs": [
    {
     "name": "stdout",
     "output_type": "stream",
     "text": [
      "The solution are (-3+0j) and (-2+0j)\n"
     ]
    }
   ],
   "source": [
    "import cmath\n",
    "\n",
    "a = 1\n",
    "b = 5\n",
    "c = 6\n",
    "\n",
    "# calculate the discriminant\n",
    "d = (b**2) - (4*a*c)\n",
    "\n",
    "# find two solutions\n",
    "sol1 = (-b-cmath.sqrt(d))/(2*a)\n",
    "sol2 = (-b+cmath.sqrt(d))/(2*a)\n",
    "\n",
    "print('The solution are {0} and {1}'.format(sol1,sol2))"
   ]
  },
  {
   "cell_type": "markdown",
   "id": "350bae18-8df1-41cc-ad88-1e31e05e1bff",
   "metadata": {},
   "source": [
    "## 19. Number Ranges: "
   ]
  },
  {
   "cell_type": "code",
   "execution_count": 19,
   "id": "51bb6091-c9d8-4e5f-8ee6-7f5afc4e448f",
   "metadata": {},
   "outputs": [
    {
     "name": "stdout",
     "output_type": "stream",
     "text": [
      "6\n"
     ]
    }
   ],
   "source": [
    "# Python program to count the \n",
    "# number of numbers in a given range\n",
    "# using traversal and multiple line code\n",
    "\n",
    "def count(list1, l, r):\n",
    "\tc = 0\n",
    "\t# traverse in the list1\n",
    "\tfor x in list1:\n",
    "\t\t# condition check\n",
    "\t\tif x>= l and x<= r:\n",
    "\t\t\tc+= 1\n",
    "\treturn c\n",
    "\t\n",
    "# driver code\n",
    "list1 = [10, 20, 30, 40, 50, 40, 40, 60, 70]\n",
    "l = 40\n",
    "r = 80\n",
    "print (count(list1, l, r))\n"
   ]
  },
  {
   "cell_type": "markdown",
   "id": "2e879e0b-99cc-41fe-a1f7-0008267f9ff6",
   "metadata": {},
   "source": [
    "# For & While Loops:\n",
    "\n",
    "## 20. Sum of N Numbers:"
   ]
  },
  {
   "cell_type": "code",
   "execution_count": 20,
   "id": "77e44649-6a10-4d65-a862-0c0051382bbf",
   "metadata": {},
   "outputs": [
    {
     "name": "stdout",
     "output_type": "stream",
     "text": [
      "The sum is 136\n"
     ]
    }
   ],
   "source": [
    "# Sum of natural numbers up to num\n",
    "\n",
    "num = 16\n",
    "\n",
    "if num < 0:\n",
    "   print(\"Enter a positive number\")\n",
    "else:\n",
    "   sum = 0\n",
    "   # use while loop to iterate until zero\n",
    "   while(num > 0):\n",
    "       sum += num\n",
    "       num -= 1\n",
    "   print(\"The sum is\", sum)\n"
   ]
  },
  {
   "cell_type": "markdown",
   "id": "02798598-e65a-4802-bd24-603c5a6b5e4a",
   "metadata": {},
   "source": [
    "## 21. Factorial Calculator: "
   ]
  },
  {
   "cell_type": "code",
   "execution_count": 21,
   "id": "cce03a3e-bb45-496c-9648-783236cf6b9a",
   "metadata": {},
   "outputs": [
    {
     "name": "stdout",
     "output_type": "stream",
     "text": [
      "The factorial of 6 is 720\n"
     ]
    }
   ],
   "source": [
    "# Input: An integer number\n",
    "num = 6\n",
    "\n",
    "# Initialize the factorial variable to 1\n",
    "factorial = 1\n",
    "\n",
    "# Calculate the factorial using a for loop\n",
    "for i in range(1, num + 1):\n",
    "    factorial *= i\n",
    "\n",
    "# Output: The factorial of the number\n",
    "print(f\"The factorial of {num} is {factorial}\")"
   ]
  },
  {
   "cell_type": "markdown",
   "id": "fe151cb5-fe05-463d-82e0-0e5561c1e0df",
   "metadata": {},
   "source": [
    "## 22. Table of a Number:"
   ]
  },
  {
   "cell_type": "code",
   "execution_count": 22,
   "id": "b43b7639-9c28-4aea-98c0-cfa8004b463a",
   "metadata": {},
   "outputs": [
    {
     "name": "stdin",
     "output_type": "stream",
     "text": [
      "Enter the number for the multiplication table:  2\n",
      "Enter the number of rows for the multiplication table:  1\n"
     ]
    },
    {
     "name": "stdout",
     "output_type": "stream",
     "text": [
      "2 * 1 = 2\n"
     ]
    }
   ],
   "source": [
    "x = int(input(\"Enter the number for the multiplication table: \"))\n",
    "y = int(input(\"Enter the number of rows for the multiplication table: \"))\n",
    "\n",
    "for i in range(1, y + 1):\n",
    "    result = x * i\n",
    "    print(f\"{x} * {i} = {result}\")\n",
    "    if i >= 20:\n",
    "        print(\"The number of rows has been limited to 20.\")\n",
    "        break\n",
    "else:\n",
    "    if y > 20:\n",
    "        print(\"The number of rows has been limited to 20.\")"
   ]
  },
  {
   "cell_type": "markdown",
   "id": "f8cdd322-facd-46db-bc61-0145fbc28ddd",
   "metadata": {},
   "source": [
    "## 23. Count Digits in a Number: "
   ]
  },
  {
   "cell_type": "code",
   "execution_count": 23,
   "id": "6023ed3d-6a52-45fa-9c3b-672178a895c1",
   "metadata": {},
   "outputs": [
    {
     "name": "stdout",
     "output_type": "stream",
     "text": [
      "Number of digits: 4\n"
     ]
    }
   ],
   "source": [
    "num = 3452\n",
    "count = 0\n",
    "\n",
    "while num != 0:\n",
    "    num //= 10\n",
    "    count += 1\n",
    "\n",
    "print(\"Number of digits: \" + str(count))"
   ]
  },
  {
   "cell_type": "markdown",
   "id": "113f35f1-4c7f-464e-b429-c16a5cd0ec14",
   "metadata": {},
   "source": [
    "## 24. Fibonacci Sequence: "
   ]
  },
  {
   "cell_type": "code",
   "execution_count": 24,
   "id": "28347dee-4b7b-4b01-b336-c3bb95af0cbf",
   "metadata": {},
   "outputs": [
    {
     "name": "stdin",
     "output_type": "stream",
     "text": [
      "Enter number :  1\n"
     ]
    },
    {
     "name": "stdout",
     "output_type": "stream",
     "text": [
      "0 1\n"
     ]
    }
   ],
   "source": [
    "def fib(n): \n",
    "    f = [0, 1] \n",
    "  \n",
    "    for i in range(2, n): \n",
    "        f.append(f[i -1] + f[i-2]) \n",
    "    return f \n",
    "     \n",
    "num = int(input(\"Enter number : \")) \n",
    "print(*fib(num))"
   ]
  },
  {
   "cell_type": "markdown",
   "id": "022b0fb7-3766-4301-bd2c-9c479c3708b4",
   "metadata": {},
   "source": [
    "## 25. Sum of Even Numbers: "
   ]
  },
  {
   "cell_type": "code",
   "execution_count": 25,
   "id": "4db6abf0-7bf0-4b93-97fa-f5ba886a25ee",
   "metadata": {},
   "outputs": [
    {
     "name": "stdin",
     "output_type": "stream",
     "text": [
      "Enter a number:  2\n"
     ]
    },
    {
     "name": "stdout",
     "output_type": "stream",
     "text": [
      "0\n",
      "2\n",
      "Sum of all the even numbers is 2\n"
     ]
    }
   ],
   "source": [
    "num = int(input('Enter a number: '))\n",
    "sum = 0\n",
    "i = 0\n",
    "while i <= num:\n",
    "    if i % 2 == 0:\n",
    "        print(i)\n",
    "        sum+=i\n",
    "    i+=1\n",
    "print(f\"Sum of all the even numbers is {sum}\")"
   ]
  },
  {
   "cell_type": "markdown",
   "id": "db81dec8-2403-4b89-b884-c72c8fd2689c",
   "metadata": {
    "collapsed": true,
    "jupyter": {
     "outputs_hidden": true
    }
   },
   "source": [
    "## 26. Print Patterns:"
   ]
  },
  {
   "cell_type": "code",
   "execution_count": 27,
   "id": "e637d6c0-0142-475d-92ea-f4f7d6f5a509",
   "metadata": {},
   "outputs": [
    {
     "name": "stdout",
     "output_type": "stream",
     "text": [
      "    *\n",
      "   ***\n",
      "  *****\n",
      " *******\n",
      "*********\n"
     ]
    }
   ],
   "source": [
    "# Function to print full pyramid pattern\n",
    "def full_pyramid(n):\n",
    "    for i in range(1, n + 1):\n",
    "        # Print leading spaces\n",
    "        for j in range(n - i):\n",
    "            print(\" \", end=\"\")\n",
    "        \n",
    "        # Print asterisks for the current row\n",
    "        for k in range(1, 2*i):\n",
    "            print(\"*\", end=\"\")\n",
    "        print()\n",
    "   \n",
    "full_pyramid(5)"
   ]
  },
  {
   "cell_type": "markdown",
   "id": "a2125fc4-188d-4487-929b-03ccdd7eb1c9",
   "metadata": {},
   "source": [
    "## 27. Prime Number Checker: "
   ]
  },
  {
   "cell_type": "code",
   "execution_count": 28,
   "id": "20cc3956-b684-44fa-9597-c8e01e36dde8",
   "metadata": {},
   "outputs": [
    {
     "name": "stdout",
     "output_type": "stream",
     "text": [
      "11 is a prime number\n"
     ]
    }
   ],
   "source": [
    "num = 11\n",
    "# Negative numbers, 0 and 1 are not primes\n",
    "if num > 1:\n",
    "  \n",
    "    # Iterate from 2 to n // 2\n",
    "    for i in range(2, (num//2)+1):\n",
    "      \n",
    "        # If num is divisible by any number between\n",
    "        # 2 and n / 2, it is not prime\n",
    "        if (num % i) == 0:\n",
    "            print(num, \"is not a prime number\")\n",
    "            break\n",
    "    else:\n",
    "        print(num, \"is a prime number\")\n",
    "else:\n",
    "    print(num, \"is not a prime number\")"
   ]
  },
  {
   "cell_type": "markdown",
   "id": "c49cb9d4-3d36-4e2d-b03f-9d923fa096f2",
   "metadata": {},
   "source": [
    "## 28. List Manipulation:"
   ]
  },
  {
   "cell_type": "code",
   "execution_count": 29,
   "id": "30d0db79-c726-4581-97f0-33642579dce5",
   "metadata": {},
   "outputs": [
    {
     "name": "stdout",
     "output_type": "stream",
     "text": [
      "sum =  46\n",
      "average =  5.75\n"
     ]
    }
   ],
   "source": [
    "# Python program to find the sum\n",
    "# and average of the list\n",
    "\n",
    "L = [4, 5, 1, 2, 9, 7, 10, 8]\n",
    "\n",
    "\n",
    "# variable to store the sum of\n",
    "# the list\n",
    "count = 0\n",
    "\n",
    "# Finding the sum\n",
    "for i in L:\n",
    "\tcount += i\n",
    "\n",
    "# divide the total elements by\n",
    "# number of elements\n",
    "avg = count/len(L)\n",
    "\n",
    "print(\"sum = \", count)\n",
    "print(\"average = \", avg)\n"
   ]
  },
  {
   "cell_type": "markdown",
   "id": "5a775eac-5cb8-436c-aabc-af195e63215b",
   "metadata": {},
   "source": [
    "## 29. Reverse String:"
   ]
  },
  {
   "cell_type": "code",
   "execution_count": 30,
   "id": "8f6c67a9-590b-4c1f-a04c-d5ed3b56f3c9",
   "metadata": {},
   "outputs": [
    {
     "name": "stdout",
     "output_type": "stream",
     "text": [
      "skeeGrofskeeG\n"
     ]
    }
   ],
   "source": [
    "s = \"GeeksforGeeks\"\n",
    "rev = s[::-1]\n",
    "print(rev)"
   ]
  },
  {
   "cell_type": "markdown",
   "id": "d53a6f62-180f-4635-98aa-3553a745a167",
   "metadata": {},
   "source": [
    "# Nested Loops:\n",
    "\n",
    "## 30. Multiplication Table: "
   ]
  },
  {
   "cell_type": "code",
   "execution_count": 35,
   "id": "60d15302-3bbb-4697-baa0-da013f250627",
   "metadata": {},
   "outputs": [
    {
     "name": "stdout",
     "output_type": "stream",
     "text": [
      "01 X 01 = 01\n",
      "01 X 02 = 02\n",
      "01 X 03 = 03\n",
      "01 X 04 = 04\n",
      "01 X 05 = 05\n",
      "01 X 06 = 06\n",
      "01 X 07 = 07\n",
      "01 X 08 = 08\n",
      "01 X 09 = 09\n",
      "02 X 01 = 02\n",
      "02 X 02 = 04\n",
      "02 X 03 = 06\n",
      "02 X 04 = 08\n",
      "02 X 05 = 10\n",
      "02 X 06 = 12\n",
      "02 X 07 = 14\n",
      "02 X 08 = 16\n",
      "02 X 09 = 18\n",
      "03 X 01 = 03\n",
      "03 X 02 = 06\n",
      "03 X 03 = 09\n",
      "03 X 04 = 12\n",
      "03 X 05 = 15\n",
      "03 X 06 = 18\n",
      "03 X 07 = 21\n",
      "03 X 08 = 24\n",
      "03 X 09 = 27\n",
      "04 X 01 = 04\n",
      "04 X 02 = 08\n",
      "04 X 03 = 12\n",
      "04 X 04 = 16\n",
      "04 X 05 = 20\n",
      "04 X 06 = 24\n",
      "04 X 07 = 28\n",
      "04 X 08 = 32\n",
      "04 X 09 = 36\n",
      "05 X 01 = 05\n",
      "05 X 02 = 10\n",
      "05 X 03 = 15\n",
      "05 X 04 = 20\n",
      "05 X 05 = 25\n",
      "05 X 06 = 30\n",
      "05 X 07 = 35\n",
      "05 X 08 = 40\n",
      "05 X 09 = 45\n",
      "06 X 01 = 06\n",
      "06 X 02 = 12\n",
      "06 X 03 = 18\n",
      "06 X 04 = 24\n",
      "06 X 05 = 30\n",
      "06 X 06 = 36\n",
      "06 X 07 = 42\n",
      "06 X 08 = 48\n",
      "06 X 09 = 54\n",
      "07 X 01 = 07\n",
      "07 X 02 = 14\n",
      "07 X 03 = 21\n",
      "07 X 04 = 28\n",
      "07 X 05 = 35\n",
      "07 X 06 = 42\n",
      "07 X 07 = 49\n",
      "07 X 08 = 56\n",
      "07 X 09 = 63\n",
      "08 X 01 = 08\n",
      "08 X 02 = 16\n",
      "08 X 03 = 24\n",
      "08 X 04 = 32\n",
      "08 X 05 = 40\n",
      "08 X 06 = 48\n",
      "08 X 07 = 56\n",
      "08 X 08 = 64\n",
      "08 X 09 = 72\n",
      "09 X 01 = 09\n",
      "09 X 02 = 18\n",
      "09 X 03 = 27\n",
      "09 X 04 = 36\n",
      "09 X 05 = 45\n",
      "09 X 06 = 54\n",
      "09 X 07 = 63\n",
      "09 X 08 = 72\n",
      "09 X 09 = 81\n"
     ]
    }
   ],
   "source": [
    "for i in range(1, 10):\n",
    "    for j in range(1, 10):\n",
    "        print ('{:02}'.format(i),'X','{:02}'.format(j),'=','{:02}'.format(i*j))\n",
    "    "
   ]
  },
  {
   "cell_type": "markdown",
   "id": "165ea5f7-a980-4095-bace-0617560e250d",
   "metadata": {},
   "source": [
    "## 31. Print Patterns: "
   ]
  },
  {
   "cell_type": "code",
   "execution_count": 36,
   "id": "e390c41c-3a95-4044-9437-b172487b8dfc",
   "metadata": {},
   "outputs": [
    {
     "name": "stdout",
     "output_type": "stream",
     "text": [
      "    *\n",
      "   ***\n",
      "  *****\n",
      " *******\n",
      "*********\n"
     ]
    }
   ],
   "source": [
    "# Function to print full pyramid pattern\n",
    "def full_pyramid(n):\n",
    "    for i in range(1, n + 1):\n",
    "        # Print leading spaces\n",
    "        for j in range(n - i):\n",
    "            print(\" \", end=\"\")\n",
    "        \n",
    "        # Print asterisks for the current row\n",
    "        for k in range(1, 2*i):\n",
    "            print(\"*\", end=\"\")\n",
    "        print()\n",
    "   \n",
    "full_pyramid(5)"
   ]
  },
  {
   "cell_type": "markdown",
   "id": "e2c54d69-7a8a-4747-b122-b0069dc401cc",
   "metadata": {},
   "source": [
    "## 32. Matrix Multiplication:"
   ]
  },
  {
   "cell_type": "code",
   "execution_count": 37,
   "id": "026b503f-520d-4804-aa06-45e8e79211fb",
   "metadata": {},
   "outputs": [
    {
     "name": "stdout",
     "output_type": "stream",
     "text": [
      "[19, 22]\n",
      "[43, 50]\n"
     ]
    }
   ],
   "source": [
    "matrix_a = [[1, 2], [3, 4]]\n",
    "matrix_b = [[5, 6], [7, 8]]\n",
    "\n",
    "result = [[0, 0], [0, 0]]\n",
    "\n",
    "for i in range(2):\n",
    "    for j in range(2):\n",
    "        result[i][j] = (matrix_a[i][0] * matrix_b[0][j] +\n",
    "                        matrix_a[i][1] * matrix_b[1][j])\n",
    "\n",
    "for row in result:\n",
    "    print(row)"
   ]
  },
  {
   "cell_type": "markdown",
   "id": "81498904-49c6-4f47-861f-cf333814055c",
   "metadata": {},
   "source": [
    "## 33. Chessboard Pattern:"
   ]
  },
  {
   "cell_type": "code",
   "execution_count": 38,
   "id": "4b6042b2-4dfe-429a-ab6f-7ab1d8f883da",
   "metadata": {},
   "outputs": [
    {
     "name": "stdout",
     "output_type": "stream",
     "text": [
      "Checkerboard pattern:\n",
      "0 1 0 1 0 1 0 1 \n",
      "1 0 1 0 1 0 1 0 \n",
      "0 1 0 1 0 1 0 1 \n",
      "1 0 1 0 1 0 1 0 \n",
      "0 1 0 1 0 1 0 1 \n",
      "1 0 1 0 1 0 1 0 \n",
      "0 1 0 1 0 1 0 1 \n",
      "1 0 1 0 1 0 1 0 \n"
     ]
    }
   ],
   "source": [
    "import numpy as np\n",
    "\n",
    "# function to print Checkerboard pattern\n",
    "def printcheckerboard(n):\n",
    "    print(\"Checkerboard pattern:\")\n",
    "\n",
    "    # create a n * n matrix\n",
    "    x = np.zeros((n, n), dtype=int)\n",
    "\n",
    "    # fill with 1 the alternate cells in rows and columns\n",
    "    x[1::2, ::2] = 1\n",
    "    x[::2, 1::2] = 1\n",
    "\n",
    "    # print the pattern\n",
    "    for i in range(n):\n",
    "        for j in range(n):\n",
    "            print(x[i][j], end=\" \")\n",
    "        print()\n",
    "\n",
    "# driver code\n",
    "n = 8\n",
    "printcheckerboard(n)"
   ]
  },
  {
   "cell_type": "markdown",
   "id": "5db31d7d-ce13-4215-b0d1-6cf0e70c6a4f",
   "metadata": {},
   "source": [
    "# List Problems:\n",
    "\n",
    "\n",
    "## 34. List Sum:"
   ]
  },
  {
   "cell_type": "code",
   "execution_count": 40,
   "id": "f46ea766-f463-439c-86b5-1cfc4aec2712",
   "metadata": {},
   "outputs": [
    {
     "name": "stdout",
     "output_type": "stream",
     "text": [
      "100\n"
     ]
    }
   ],
   "source": [
    "a = [10, 20, 30, 40]\n",
    "\n",
    "# Initialize a variable to hold the sum\n",
    "res = 0\n",
    "\n",
    "# Loop through each value in the list\n",
    "for val in a:\n",
    "  \n",
    "    # Add the current value to the sum\n",
    "    res += val\n",
    "\n",
    "print(res)"
   ]
  },
  {
   "cell_type": "markdown",
   "id": "a968cc4f-5262-4244-b43c-f971a5b83253",
   "metadata": {},
   "source": [
    "## 35. List Average:"
   ]
  },
  {
   "cell_type": "code",
   "execution_count": 42,
   "id": "107ed069-d318-4f06-a1ae-669ee778980b",
   "metadata": {},
   "outputs": [
    {
     "name": "stdout",
     "output_type": "stream",
     "text": [
      "6.0\n"
     ]
    }
   ],
   "source": [
    "a = [2, 4, 6, 8, 10]\n",
    "\n",
    "# Initialize total sum to zero\n",
    "total_sum = 0\n",
    "\n",
    "# Iterate over each element in list\n",
    "# and accumulate sum\n",
    "for val in a:\n",
    "    total_sum += val\n",
    "\n",
    "# Calculate average by dividing total sum\n",
    "# by length of list\n",
    "avg = total_sum / len(a)\n",
    "\n",
    "print(avg)"
   ]
  },
  {
   "cell_type": "markdown",
   "id": "a5db329c-1077-4d05-b4b5-9b0b7b708df2",
   "metadata": {},
   "source": [
    "## 36. List Max and Min:"
   ]
  },
  {
   "cell_type": "code",
   "execution_count": 43,
   "id": "8fdf7c17-8429-4933-b514-9803e611ccf1",
   "metadata": {},
   "outputs": [
    {
     "name": "stdout",
     "output_type": "stream",
     "text": [
      "The original list 1 is : [1, 3, 4, 5, 2, 6]\n",
      "The original list 2 is : [3, 4, 8, 3, 10, 1]\n",
      "The maximum of both lists is : 10\n",
      "The minimum of both lists is : 1\n"
     ]
    }
   ],
   "source": [
    "\n",
    "test_list1 = [1, 3, 4, 5, 2, 6]\n",
    "test_list2 = [3, 4, 8, 3, 10, 1]\n",
    "\n",
    "# printing the original lists\n",
    "print (\"The original list 1 is : \" + str(test_list1))\n",
    "print (\"The original list 2 is : \" + str(test_list2))\n",
    "\n",
    "# using max() + min() + \"+\" operator\n",
    "# maximum and minimum values in two lists \n",
    "max_all = max(test_list1 + test_list2)\n",
    "min_all = min(test_list1 + test_list2)\n",
    "\n",
    "# printing result\n",
    "print (\"The maximum of both lists is : \" + str(max_all))\n",
    "print (\"The minimum of both lists is : \" + str(min_all))\n"
   ]
  },
  {
   "cell_type": "markdown",
   "id": "ab71c912-987f-406c-8e80-d3ed30083be7",
   "metadata": {},
   "source": [
    "## 37. List Sorting: "
   ]
  },
  {
   "cell_type": "code",
   "execution_count": 44,
   "id": "8ec8713e-8b4e-4e07-92a8-e2ca42674f7d",
   "metadata": {},
   "outputs": [
    {
     "name": "stdout",
     "output_type": "stream",
     "text": [
      "[1, 2, 5, 5, 6, 9]\n"
     ]
    }
   ],
   "source": [
    "a = [5, 2, 9, 1, 5, 6]\n",
    "\n",
    "# Sort the value in increasing order\n",
    "a.sort()\n",
    "print(a)"
   ]
  },
  {
   "cell_type": "markdown",
   "id": "05fae41d-3463-4699-a11e-e00744cf31c6",
   "metadata": {},
   "source": [
    "## 38. List Filtering:"
   ]
  },
  {
   "cell_type": "code",
   "execution_count": 45,
   "id": "3fdf08d8-5187-417e-804a-34200ed6c7eb",
   "metadata": {},
   "outputs": [
    {
     "name": "stdout",
     "output_type": "stream",
     "text": [
      "[2, 4, 6, 8, 10]\n"
     ]
    }
   ],
   "source": [
    "a = [1, 2, 3, 4, 5, 6, 7, 8, 9, 10]\n",
    "\n",
    "# Create a list of even numbers using list comprehension\n",
    "res = [val for val in a if val % 2 == 0]\n",
    "print(res)"
   ]
  },
  {
   "cell_type": "markdown",
   "id": "3b49ae83-f7f4-4f6d-bb2b-7a2718b1beaa",
   "metadata": {},
   "source": [
    "## 39. List Reversal:"
   ]
  },
  {
   "cell_type": "code",
   "execution_count": 46,
   "id": "719817ab-ba09-4565-86fc-f2ecb7c6e15c",
   "metadata": {},
   "outputs": [
    {
     "name": "stdout",
     "output_type": "stream",
     "text": [
      "[5, 4, 3, 2, 1]\n"
     ]
    }
   ],
   "source": [
    "a = [1, 2, 3, 4, 5]\n",
    "\n",
    "# Reverse the list in-place\n",
    "a.reverse()\n",
    "print(a)"
   ]
  },
  {
   "cell_type": "markdown",
   "id": "89700e76-ea3e-4ec9-952a-34aeec8c83d8",
   "metadata": {},
   "source": [
    "## 40. List Manipulation:"
   ]
  },
  {
   "cell_type": "code",
   "execution_count": 47,
   "id": "10f82459-3176-4595-b0e9-0f4f880258ce",
   "metadata": {},
   "outputs": [
    {
     "name": "stdout",
     "output_type": "stream",
     "text": [
      "[4, 5]\n"
     ]
    }
   ],
   "source": [
    "a = [1, 2, 3, 4, 5]\n",
    "b = [4, 5, 6, 7, 8]\n",
    "\n",
    "# Find common elements using set intersection\n",
    "common = list(set(a) & set(b))\n",
    "\n",
    "print(common)"
   ]
  },
  {
   "cell_type": "markdown",
   "id": "a19941b0-d550-4e26-a7ae-50018709e83a",
   "metadata": {},
   "source": [
    "## 41. List Element Count:"
   ]
  },
  {
   "cell_type": "code",
   "execution_count": 48,
   "id": "2b599ac3-bb1f-4c2a-8e92-b8f41ad4e3a5",
   "metadata": {},
   "outputs": [
    {
     "name": "stdout",
     "output_type": "stream",
     "text": [
      "4\n",
      "3\n"
     ]
    }
   ],
   "source": [
    "a = [1, 3, 2, 6, 3, 2, 8, 2, 9, 2, 7, 3]\n",
    "\n",
    "# Count occurrences of 2\n",
    "print(a.count(2))\n",
    "\n",
    "# Count occurrences of 3\n",
    "print(a.count(3))"
   ]
  },
  {
   "cell_type": "markdown",
   "id": "ce6d0359-ec6c-4c07-929f-fbf1de3a99ed",
   "metadata": {},
   "source": [
    "## 42. List Duplicates Removal: "
   ]
  },
  {
   "cell_type": "code",
   "execution_count": 49,
   "id": "a7ad799c-8201-4787-8ed9-76663ecc863b",
   "metadata": {},
   "outputs": [
    {
     "name": "stdout",
     "output_type": "stream",
     "text": [
      "[1, 2, 3, 4, 5]\n"
     ]
    }
   ],
   "source": [
    "a = [1, 2, 2, 3, 4, 4, 5]\n",
    "\n",
    "b = list(dict.fromkeys(a))\n",
    "print(b)"
   ]
  },
  {
   "cell_type": "markdown",
   "id": "49e6844d-c056-413d-8f02-b84e4d159a67",
   "metadata": {},
   "source": [
    "## 43. List Comprehension:"
   ]
  },
  {
   "cell_type": "code",
   "execution_count": 50,
   "id": "ec57e463-2db0-4cc8-9d01-5a4d42872d27",
   "metadata": {},
   "outputs": [
    {
     "name": "stdout",
     "output_type": "stream",
     "text": [
      "[1, 9, 25, 49]\n"
     ]
    }
   ],
   "source": [
    "# create a list with 7 integer elements\n",
    "data=[1,2,3,4,5,6,7]\n",
    "\n",
    "# use list comprehension to get square\n",
    "# of odd numbers\n",
    "result = [i*i for i in data if i%2!=0]\n",
    "\n",
    "# display the result\n",
    "print(result)\n"
   ]
  },
  {
   "cell_type": "markdown",
   "id": "cb52ce4f-7e4f-48f7-ad80-8e31ea688f52",
   "metadata": {},
   "source": [
    "# Nested List Problems:\n",
    "\n",
    "\n",
    "## 44. Matrix Addition:"
   ]
  },
  {
   "cell_type": "code",
   "execution_count": 52,
   "id": "57585899-3346-405c-a258-d6cd65a3f86d",
   "metadata": {},
   "outputs": [
    {
     "name": "stdout",
     "output_type": "stream",
     "text": [
      "[10, 10, 10]\n",
      "[10, 10, 10]\n",
      "[10, 10, 10]\n"
     ]
    }
   ],
   "source": [
    "# Program to add two matrices\n",
    "# using list comprehension\n",
    "\n",
    "X = [[1, 2, 3],\n",
    "     [4, 5, 6],\n",
    "     [7, 8, 9]]\n",
    "\n",
    "Y = [[9, 8, 7],\n",
    "     [6, 5, 4],\n",
    "     [3, 2, 1]]\n",
    "\n",
    "result = [[X[i][j] + Y[i][j] for j in range\n",
    "           (len(X[0]))] for i in range(len(X))]\n",
    "\n",
    "for r in result:\n",
    "    print(r)"
   ]
  },
  {
   "cell_type": "markdown",
   "id": "4130ea36-8ac5-41be-a652-3eb1ac0482a2",
   "metadata": {},
   "source": [
    "## 45. Flatten Nested List:"
   ]
  },
  {
   "cell_type": "code",
   "execution_count": 53,
   "id": "8bac7c7d-4679-4c98-88bc-fb0384365083",
   "metadata": {},
   "outputs": [
    {
     "name": "stdout",
     "output_type": "stream",
     "text": [
      "List [[11, 22, 33, 44], [55, 66, 77], [88, 99, 100]]\n",
      "Flat List [11, 22, 33, 44, 55, 66, 77, 88, 99, 100]\n"
     ]
    }
   ],
   "source": [
    "# Original list\n",
    "lis = [[11, 22, 33, 44], [55, 66, 77], [88, 99, 100]]\n",
    "\n",
    "# iterate through the sublist using List comprehension\n",
    "flatList = [element for innerList in lis for element in innerList]\n",
    "\n",
    "# printing original list\n",
    "print('List', lis)\n",
    "# printing flat list\n",
    "print('Flat List', flatList)\n"
   ]
  },
  {
   "cell_type": "markdown",
   "id": "e6782ad5-369b-48e9-831e-16bb0f904c4e",
   "metadata": {},
   "source": [
    "## 46. List Element Frequency:"
   ]
  },
  {
   "cell_type": "code",
   "execution_count": 54,
   "id": "b527a48d-99de-4186-b5b3-159336f18a95",
   "metadata": {},
   "outputs": [
    {
     "name": "stdout",
     "output_type": "stream",
     "text": [
      "The original list 1 : [4, 6, 8, 9, 10]\n",
      "The original list 2 : [4, 6, 6, 5, 8, 10, 4, 9, 8, 10, 1]\n",
      "Lists elements Frequency : {4: 2, 6: 2, 8: 2, 9: 1, 10: 2}\n"
     ]
    }
   ],
   "source": [
    "\n",
    "test_list1 = [4, 6, 8, 9, 10]\n",
    "test_list2 = [4, 6, 6, 5, 8, 10, 4, 9, 8, 10, 1]\n",
    "\n",
    "# printing original lists\n",
    "print(\"The original list 1 : \" + str(test_list1))\n",
    "print(\"The original list 2 : \" + str(test_list2))\n",
    "\n",
    "res = {key: test_list2.count(key) for key in test_list1}\n",
    "\n",
    "# printing result\n",
    "print(\"Lists elements Frequency : \" + str(res))\n"
   ]
  },
  {
   "cell_type": "markdown",
   "id": "ae9a5b60-e1a5-4d2f-a3a2-72b16023a603",
   "metadata": {},
   "source": [
    "## 47. Transpose Matrix: "
   ]
  },
  {
   "cell_type": "code",
   "execution_count": 55,
   "id": "c08e3247-f946-4e4c-a703-c8c1d45afe45",
   "metadata": {},
   "outputs": [
    {
     "name": "stdout",
     "output_type": "stream",
     "text": [
      "[12, 4, 3]\n",
      "[7, 5, 8]\n"
     ]
    }
   ],
   "source": [
    "# Program to transpose a matrix using a nested loop\n",
    "\n",
    "X = [[12,7],\n",
    "    [4 ,5],\n",
    "    [3 ,8]]\n",
    "\n",
    "result = [[0,0,0],\n",
    "         [0,0,0]]\n",
    "\n",
    "# iterate through rows\n",
    "for i in range(len(X)):\n",
    "   # iterate through columns\n",
    "   for j in range(len(X[0])):\n",
    "       result[j][i] = X[i][j]\n",
    "\n",
    "for r in result:\n",
    "   print(r)\n"
   ]
  },
  {
   "cell_type": "markdown",
   "id": "c72ef82c-5d24-4323-97cc-99b46e472e94",
   "metadata": {},
   "source": [
    "## 48. List of Lists Concatenation: "
   ]
  },
  {
   "cell_type": "code",
   "execution_count": 56,
   "id": "9ef77ab3-95da-449a-9e1f-3a1b96dcbfc6",
   "metadata": {},
   "outputs": [
    {
     "name": "stdout",
     "output_type": "stream",
     "text": [
      "List [[11, 22, 33, 44], [55, 66, 77], [88, 99, 100]]\n",
      "Flat List [11, 22, 33, 44, 55, 66, 77, 88, 99, 100]\n"
     ]
    }
   ],
   "source": [
    "def flat(lis):\n",
    "\tflatList = []\n",
    "\t# Iterate with outer list\n",
    "\tfor element in lis:\n",
    "\t\tif type(element) is list:\n",
    "\t\t\t# Check if type is list than iterate through the sublist\n",
    "\t\t\tfor item in element:\n",
    "\t\t\t\tflatList.append(item)\n",
    "\t\telse:\n",
    "\t\t\tflatList.append(element)\n",
    "\treturn flatList\n",
    "\n",
    "\n",
    "lis = [[11, 22, 33, 44], [55, 66, 77], [88, 99, 100]]\n",
    "print('List', lis)\n",
    "print('Flat List', flat(lis))\n"
   ]
  },
  {
   "cell_type": "markdown",
   "id": "ce9c36c4-487a-49d8-ad25-a5b8d5f114c5",
   "metadata": {},
   "source": [
    "# Tuple Problems:\n",
    "\n",
    "\n",
    "## 49. Tuple Concatenation:"
   ]
  },
  {
   "cell_type": "code",
   "execution_count": 58,
   "id": "92cd5560-f8ed-40ac-8cb6-be443d38200c",
   "metadata": {},
   "outputs": [
    {
     "name": "stdout",
     "output_type": "stream",
     "text": [
      "The original tuple 1 : (1, 3, 5)\n",
      "The original tuple 2 : (4, 6)\n",
      "The tuple after concatenation is : (1, 3, 5, 4, 6)\n"
     ]
    }
   ],
   "source": [
    "\n",
    "test_tup1 = (1, 3, 5)\n",
    "test_tup2 = (4, 6)\n",
    "\n",
    "# printing original tuples\n",
    "print(\"The original tuple 1 : \" + str(test_tup1))\n",
    "print(\"The original tuple 2 : \" + str(test_tup2))\n",
    "\n",
    "res = test_tup1 + test_tup2\n",
    "\n",
    "# printing result\n",
    "print(\"The tuple after concatenation is : \" + str(res))\n"
   ]
  },
  {
   "cell_type": "markdown",
   "id": "46c4955f-c43f-4cc1-af15-1c6283f39af2",
   "metadata": {},
   "source": [
    "## 50. Tuple Unpacking:"
   ]
  },
  {
   "cell_type": "code",
   "execution_count": 59,
   "id": "47cad8f0-f7c0-44e2-8eb3-c0e38e75cd14",
   "metadata": {},
   "outputs": [
    {
     "name": "stdout",
     "output_type": "stream",
     "text": [
      "MNNIT Allahabad\n",
      "5000\n",
      "Engineering\n"
     ]
    }
   ],
   "source": [
    "\n",
    "a = (\"MNNIT Allahabad\", 5000, \"Engineering\") \n",
    "\n",
    "(college, student, type_ofcollege) = a \n",
    "\n",
    "# print college name\n",
    "print(college)\n",
    "\n",
    "# print no of student\n",
    "print(student)\n",
    "\n",
    "# print type of college\n",
    "print(type_ofcollege)\n"
   ]
  },
  {
   "cell_type": "markdown",
   "id": "2e2944f4-edb6-4036-959f-b3ef0fd5162e",
   "metadata": {},
   "source": [
    "## 51. Tuple Sorting:"
   ]
  },
  {
   "cell_type": "code",
   "execution_count": 60,
   "id": "e0a35cdc-3c3f-492b-90ed-f7e8989e8c9f",
   "metadata": {},
   "outputs": [
    {
     "name": "stdout",
     "output_type": "stream",
     "text": [
      "Sorted:\n",
      "[(23, 45, 20), (89, 40, 23), (25, 44, 39)]\n"
     ]
    }
   ],
   "source": [
    "\n",
    "def last(n):\n",
    "\treturn n[m] \n",
    "\n",
    "# function to sort the tuple \n",
    "def sort(tuples):\n",
    "\n",
    "\t\n",
    "\treturn sorted(tuples, key = last)\n",
    "\n",
    "# driver code \n",
    "a = [(23, 45, 20), (25, 44, 39), (89, 40, 23)]\n",
    "m = 2\n",
    "print(\"Sorted:\"),\n",
    "print(sort(a))\n"
   ]
  },
  {
   "cell_type": "markdown",
   "id": "1f5137cf-dd79-4f59-a526-75ef89dfcf12",
   "metadata": {},
   "source": [
    "## 52. Tuple Frequency Count:"
   ]
  },
  {
   "cell_type": "code",
   "execution_count": 61,
   "id": "983d7763-8069-467b-b9cf-bc4df73cd638",
   "metadata": {},
   "outputs": [
    {
     "name": "stdout",
     "output_type": "stream",
     "text": [
      "The original tuple is : (4, 5, 4, 5, 6, 6, 5, 5, 4)\n",
      "Tuple elements frequency is : {4: 3, 5: 4, 6: 2}\n"
     ]
    }
   ],
   "source": [
    "\n",
    "from collections import defaultdict\n",
    "\n",
    "# initializing tuple\n",
    "test_tup = (4, 5, 4, 5, 6, 6, 5, 5, 4)\n",
    "\n",
    "# printing original tuple\n",
    "print(\"The original tuple is : \" + str(test_tup))\n",
    "\n",
    "res = defaultdict(int)\n",
    "for ele in test_tup:\n",
    "\t\n",
    "\t# incrementing frequency\n",
    "\tres[ele] += 1\n",
    "\n",
    "# printing result \n",
    "print(\"Tuple elements frequency is : \" + str(dict(res))) \n"
   ]
  },
  {
   "cell_type": "markdown",
   "id": "fe6e1178-1432-48e1-bacd-5c33e4235aea",
   "metadata": {},
   "source": [
    "## 53. Tuple to List:"
   ]
  },
  {
   "cell_type": "code",
   "execution_count": 64,
   "id": "56370b19-d4e5-4b35-86d6-cff2c4948ef6",
   "metadata": {},
   "outputs": [
    {
     "name": "stdout",
     "output_type": "stream",
     "text": [
      "[1, 2, 3]\n"
     ]
    }
   ],
   "source": [
    "# Define a tuple\n",
    "a = (1, 2, 3)\n",
    "\n",
    "# Convert the tuple to a list\n",
    "b = list(a)\n",
    "print(b)\n"
   ]
  },
  {
   "cell_type": "markdown",
   "id": "7d3360ba-7ae5-448e-a7d1-4f5666864afc",
   "metadata": {},
   "source": [
    "## 54. Tuple Reversal: "
   ]
  },
  {
   "cell_type": "code",
   "execution_count": 65,
   "id": "d4f1c8a9-3eb2-473a-9012-6a09c19bd16b",
   "metadata": {},
   "outputs": [
    {
     "name": "stdout",
     "output_type": "stream",
     "text": [
      "('k', 'e', 'e', 'g', 'f', 'd', 'a', 'z')\n"
     ]
    }
   ],
   "source": [
    "\n",
    "def Reverse(tuples):\n",
    "\tnew_tup = tuples[::-1]\n",
    "\treturn new_tup\n",
    "\t\n",
    "# Driver Code\n",
    "tuples = ('z','a','d','f','g','e','e','k')\n",
    "print(Reverse(tuples))\n"
   ]
  },
  {
   "cell_type": "markdown",
   "id": "60900659-e8f4-45cc-9a4d-eaac912a4d0a",
   "metadata": {},
   "source": [
    "## 55. Tuple Slicing:"
   ]
  },
  {
   "cell_type": "code",
   "execution_count": 66,
   "id": "9c81448f-e89c-45a8-a16c-6240137e5d00",
   "metadata": {},
   "outputs": [
    {
     "name": "stdout",
     "output_type": "stream",
     "text": [
      "[(2, 'banana'), (3, 'cherry')]\n"
     ]
    }
   ],
   "source": [
    "# Sample List of Tuples\n",
    "list_of_tuples = [(1, 'apple'), (2, 'banana'), (3, 'cherry'), (4, 'date')]\n",
    "\n",
    "# Basic Slicing\n",
    "sliced_result = list_of_tuples[1:3]\n",
    "print(sliced_result)"
   ]
  },
  {
   "cell_type": "markdown",
   "id": "00a3dc90-fb89-40e8-a5b5-78f169c40493",
   "metadata": {},
   "source": [
    "## 56. Tuple Operations:"
   ]
  },
  {
   "cell_type": "code",
   "execution_count": 69,
   "id": "11b7ed33-a687-4e54-8c19-87d120c5dead",
   "metadata": {},
   "outputs": [
    {
     "name": "stdout",
     "output_type": "stream",
     "text": [
      "The multiplied tuple : (50, 24, 35, 30)\n",
      "Resultant tuple after addition : (12, 9, 23)\n",
      "Resultant tuple after Substraction : (8, -1, -13)\n"
     ]
    }
   ],
   "source": [
    "\n",
    "test_tup1 = (10, 4, 5, 6)\n",
    "test_tup2 = (5, 6, 7, 5)\n",
    "\n",
    "res = tuple(ele1 * ele2 for ele1, ele2 in zip(test_tup1, test_tup2))\n",
    "\n",
    "# printing result\n",
    "print(\"The multiplied tuple : \" + str(res))\n",
    "\n",
    "\n",
    "\n",
    "\n",
    "\n",
    "# initialize tuples \n",
    "test_tupx = (10, 4, 5)\n",
    "test_tupy = (2, 5, 18)\n",
    "\n",
    "res = tuple(map(lambda i, j: i + j, test_tupx, test_tupy))\n",
    "\n",
    "# printing result\n",
    "print(\"Resultant tuple after addition : \" + str(res))\n",
    "\n",
    "\n",
    "\n",
    "# initialize tuples \n",
    "test_tupxx = (10, 4, 5)\n",
    "test_tupyy = (2, 5, 18)\n",
    "\n",
    "res = tuple(map(lambda i, j: i - j, test_tupxx, test_tupyy))\n",
    "\n",
    "# printing result\n",
    "print(\"Resultant tuple after Substraction : \" + str(res))"
   ]
  },
  {
   "cell_type": "markdown",
   "id": "2bb1f675-b049-4959-8695-57bea7c0005f",
   "metadata": {},
   "source": [
    "## 57. Tuple Membership Test: "
   ]
  },
  {
   "cell_type": "code",
   "execution_count": 70,
   "id": "6a67919b-838c-4e87-aa15-e32d7d8ae013",
   "metadata": {},
   "outputs": [
    {
     "name": "stdout",
     "output_type": "stream",
     "text": [
      "The original tuple : (10, 4, 5, 6, 8)\n",
      "Does tuple contain required value ? : True\n"
     ]
    }
   ],
   "source": [
    "\n",
    "test_tup = (10, 4, 5, 6, 8)\n",
    "\n",
    "# printing original tuple\n",
    "print(\"The original tuple : \" + str(test_tup))\n",
    "\n",
    "# initialize N\n",
    "N = 6\n",
    "\n",
    "res = N in test_tup\n",
    "\n",
    "# printing result\n",
    "print(\"Does tuple contain required value ? : \" + str(res))\n"
   ]
  },
  {
   "cell_type": "markdown",
   "id": "dcbefee0-6adc-489a-8a23-4dc20dc4fdb7",
   "metadata": {},
   "source": [
    "## 58. Tuple Packing:"
   ]
  },
  {
   "cell_type": "code",
   "execution_count": 1,
   "id": "8c9e6eb5-9358-4632-8db2-05e75c238df6",
   "metadata": {},
   "outputs": [
    {
     "name": "stdout",
     "output_type": "stream",
     "text": [
      "apple\n",
      "banana\n",
      "cherry\n"
     ]
    }
   ],
   "source": [
    "fruits = (\"apple\", \"banana\", \"cherry\")\n",
    "\n",
    "(green, yellow, red) = fruits\n",
    "\n",
    "print(green)\n",
    "print(yellow)\n",
    "print(red)"
   ]
  },
  {
   "cell_type": "markdown",
   "id": "db43abc8-731b-4c37-a28f-652aa2d0ef2a",
   "metadata": {},
   "source": [
    "# Nested List Problems\n",
    "\n",
    "\n",
    "## 59. Nested List Element Access:\n"
   ]
  },
  {
   "cell_type": "code",
   "execution_count": 2,
   "id": "0c1f7039-c04c-46a6-b85b-e722c6ec088c",
   "metadata": {},
   "outputs": [
    {
     "name": "stdout",
     "output_type": "stream",
     "text": [
      "[2, 5, 8]\n"
     ]
    }
   ],
   "source": [
    "my_list = [[1, 2, 3], [4, 5, 6], [7, 8, 9]]\n",
    "result = [sublist[1] for sublist in my_list]\n",
    "print(result)"
   ]
  },
  {
   "cell_type": "markdown",
   "id": "28003343-d036-46c1-ab64-21c1dec7f5ff",
   "metadata": {},
   "source": [
    "## 60. Nested List Flattening:"
   ]
  },
  {
   "cell_type": "code",
   "execution_count": 3,
   "id": "ca1edb9c-3c2d-4028-8bde-f644505003a7",
   "metadata": {},
   "outputs": [
    {
     "name": "stdout",
     "output_type": "stream",
     "text": [
      "List [[11, 22, 33, 44], [55, 66, 77], [88, 99, 100]]\n",
      "Flat List [11, 22, 33, 44, 55, 66, 77, 88, 99, 100]\n"
     ]
    }
   ],
   "source": [
    "# Original list\n",
    "lis = [[11, 22, 33, 44], [55, 66, 77], [88, 99, 100]]\n",
    "\n",
    "# iterate through the sublist using List comprehension\n",
    "flatList = [element for innerList in lis for element in innerList]\n",
    "\n",
    "# printing original list\n",
    "print('List', lis)\n",
    "# printing flat list\n",
    "print('Flat List', flatList)\n"
   ]
  },
  {
   "cell_type": "markdown",
   "id": "ccfef8a4-e6c6-426f-853f-579c99e1bace",
   "metadata": {},
   "source": [
    "## 61. Nested List Sorting:"
   ]
  },
  {
   "cell_type": "code",
   "execution_count": 4,
   "id": "68b2620b-6b94-42e4-bca4-c367a5e55be4",
   "metadata": {},
   "outputs": [
    {
     "name": "stdout",
     "output_type": "stream",
     "text": [
      "[[1, 2], [3, 5], [6, 7], [8, 9]]\n"
     ]
    }
   ],
   "source": [
    "n = [[6, 2], [9, 5], [3, 7], [1, 8]]\n",
    "# flatten list and sort\n",
    "f = sorted(i for l in n for i in l)\n",
    "# put it back together into nested pairs\n",
    "n = [[v1, v2] for v1, v2 in zip(f[0::2], f[1::2])]\n",
    "print(n)"
   ]
  },
  {
   "cell_type": "markdown",
   "id": "50cdcb24-ca90-4cd0-9a68-8f60383ea9f9",
   "metadata": {},
   "source": [
    "## 62. List of Tuples Conversion:"
   ]
  },
  {
   "cell_type": "code",
   "execution_count": 5,
   "id": "d738f4ba-b373-460d-a7d6-366b5e0c9aac",
   "metadata": {},
   "outputs": [
    {
     "name": "stdout",
     "output_type": "stream",
     "text": [
      "The paired list of tuple is : [(1, 'g'), (4, 'f'), (5, 'g'), (8, 'f'), (7, 'r'), (2, 'u')]\n"
     ]
    }
   ],
   "source": [
    "\n",
    "test_list1 = [[1, 4, 5], [8, 7], [2]] \n",
    "test_list2 = [['g', 'f', 'g'], ['f', 'r'], ['u']] \n",
    "\n",
    "res = [(u, v) for x, y in zip(test_list1, test_list2) \n",
    "\t\t\t\t\t\t\tfor u, v in zip(x, y)] \n",
    "\n",
    "# print result \n",
    "print(\"The paired list of tuple is : \" + str(res)) \n"
   ]
  },
  {
   "cell_type": "markdown",
   "id": "fd34a8fe-900a-4aa4-b05b-fc60231e1bf1",
   "metadata": {},
   "source": [
    "## 63. Matrix Transpose:"
   ]
  },
  {
   "cell_type": "code",
   "execution_count": 6,
   "id": "cc8b6b1f-6f4a-40b9-924b-e73e4ba8cef3",
   "metadata": {},
   "outputs": [
    {
     "name": "stdout",
     "output_type": "stream",
     "text": [
      "[12, 4, 3]\n",
      "[7, 5, 8]\n"
     ]
    }
   ],
   "source": [
    "''' Program to transpose a matrix using list comprehension'''\n",
    "\n",
    "X = [[12,7],\n",
    "    [4 ,5],\n",
    "    [3 ,8]]\n",
    "\n",
    "result = [[X[j][i] for j in range(len(X))] for i in range(len(X[0]))]\n",
    "\n",
    "for r in result:\n",
    "   print(r)"
   ]
  },
  {
   "cell_type": "markdown",
   "id": "66fec12e-2e46-4025-a12f-a8ea15ca7133",
   "metadata": {},
   "source": [
    "## 64. Nested List Concatenation:"
   ]
  },
  {
   "cell_type": "code",
   "execution_count": 7,
   "id": "49799f0f-0d4a-497c-a9b6-910f417ad1f7",
   "metadata": {},
   "outputs": [
    {
     "name": "stdout",
     "output_type": "stream",
     "text": [
      "[11, 33, 22, 55, 11, 77, 88]\n"
     ]
    }
   ],
   "source": [
    "import numpy as np\n",
    "\n",
    "lst = [[11, 33], [22, 55], [11], [77, 88]]\n",
    "\n",
    "new = list(np.concatenate(lst))\n",
    "\n",
    "print(new)\n"
   ]
  },
  {
   "cell_type": "markdown",
   "id": "789eebed-8eba-410f-a5fa-4821b770a128",
   "metadata": {},
   "source": [
    "## 65. Count Even Numbers:"
   ]
  },
  {
   "cell_type": "code",
   "execution_count": 8,
   "id": "afc8281c-3c35-4664-a22f-6e9d4d365e2e",
   "metadata": {},
   "outputs": [
    {
     "name": "stdout",
     "output_type": "stream",
     "text": [
      "Even numbers: 4\n",
      "Odd numbers: 5\n"
     ]
    }
   ],
   "source": [
    "from collections import Counter\n",
    "\n",
    "a = [1, 2, 3, 4, 5, 6, 7, 8, 9]\n",
    "\n",
    "# Counting even and odd numbers using Counter\n",
    "counts = Counter(['even' if num % 2 == 0 else 'odd' for num in a])\n",
    "\n",
    "# Printing the results\n",
    "print(\"Even numbers:\", counts['even'])\n",
    "print(\"Odd numbers:\", counts['odd'])"
   ]
  },
  {
   "cell_type": "markdown",
   "id": "6bac473d-7c1b-4d55-b51e-2dec917df90f",
   "metadata": {},
   "source": [
    "## 66. Maximum Element in Nested List: "
   ]
  },
  {
   "cell_type": "code",
   "execution_count": 9,
   "id": "ceb91af4-6ba5-432f-8797-81e0df3f9919",
   "metadata": {},
   "outputs": [
    {
     "name": "stdout",
     "output_type": "stream",
     "text": [
      "(['A', 'B', 'C'], 3)\n"
     ]
    }
   ],
   "source": [
    "def FindMaxLength(lst):\n",
    "\tmaxList = max(lst, key = len)\n",
    "\tmaxLength = max(map(len, lst))\n",
    "\t\n",
    "\treturn maxList, maxLength\n",
    "\n",
    "# Driver Code\n",
    "lst = [['A'], ['A', 'B'], ['A', 'B', 'C'], ]\n",
    "print(FindMaxLength(lst))\n"
   ]
  },
  {
   "cell_type": "markdown",
   "id": "d4172698-4cac-483b-a375-0829006c7a13",
   "metadata": {},
   "source": [
    "## 67. Diagonal Sum of Matrix:"
   ]
  },
  {
   "cell_type": "code",
   "execution_count": 10,
   "id": "c3ef5f23-5e89-48d9-b22f-e4f450515443",
   "metadata": {},
   "outputs": [
    {
     "name": "stdout",
     "output_type": "stream",
     "text": [
      "9\n",
      "10\n"
     ]
    }
   ],
   "source": [
    "squared_matrix = [\n",
    "    [2, 3, 4],\n",
    "    [4, 3, 3],\n",
    "    [3, 3, 4]\n",
    "]\n",
    "\n",
    "\n",
    "def primary_diagonal(matrix):\n",
    "    sum = 0\n",
    "    for i in range(len(matrix)):\n",
    "        sum += matrix[i][i]\n",
    "    return sum\n",
    "\n",
    "def secondary_left_diagonal(matrix):\n",
    "    sum = 0\n",
    "    for i in range(len(matrix)):\n",
    "        sum += matrix[i][len(matrix) - i - 1]\n",
    "    return sum\n",
    "\n",
    "\n",
    "print(primary_diagonal(squared_matrix))\n",
    "print(secondary_left_diagonal(squared_matrix))"
   ]
  },
  {
   "cell_type": "markdown",
   "id": "3f9542f4-d20c-431a-989d-778033ee98f7",
   "metadata": {},
   "source": [
    "## 68. Nested List Element Search:"
   ]
  },
  {
   "cell_type": "code",
   "execution_count": 11,
   "id": "c222a69d-1a90-4939-8f78-8cb9e9f85f0d",
   "metadata": {},
   "outputs": [
    {
     "name": "stdout",
     "output_type": "stream",
     "text": [
      "[10, 30, 50]\n"
     ]
    }
   ],
   "source": [
    "def findElements(lst1, lst2):\n",
    "\treturn [lst1[i] for i in lst2]\n",
    "\t\t\t\n",
    "# Driver code\n",
    "lst1 = [10, 20, 30, 40, 50]\n",
    "lst2 = [0, 2, 4]\n",
    "print(findElements(lst1, lst2))\n"
   ]
  },
  {
   "cell_type": "markdown",
   "id": "2f29121e-83f3-4192-b87c-0eb61222afc3",
   "metadata": {},
   "source": [
    "# Set Problems:\n",
    "\n",
    "\n",
    "## 69. Duplicate Removal:"
   ]
  },
  {
   "cell_type": "code",
   "execution_count": 13,
   "id": "903a758a-e95f-456d-809d-ef9f0bf5c4e9",
   "metadata": {},
   "outputs": [
    {
     "name": "stdout",
     "output_type": "stream",
     "text": [
      "[1, 2, 3, 4, 5]\n"
     ]
    }
   ],
   "source": [
    "a = {1, 2, 1, 1, 3, 4, 3, 3, 5}\n",
    "\n",
    "res = list(set(a))\n",
    "print(res)"
   ]
  },
  {
   "cell_type": "markdown",
   "id": "d16e6a93-312d-4da7-ae69-4b0753a4d2a8",
   "metadata": {},
   "source": [
    "## 70. Set Intersection: "
   ]
  },
  {
   "cell_type": "code",
   "execution_count": 14,
   "id": "86360b28-b2b7-4a93-852b-ddb032e56e51",
   "metadata": {},
   "outputs": [
    {
     "name": "stdout",
     "output_type": "stream",
     "text": [
      "{'apple'}\n"
     ]
    }
   ],
   "source": [
    "x = {\"apple\", \"banana\", \"cherry\"}\n",
    "y = {\"google\", \"microsoft\", \"apple\"}\n",
    "\n",
    "z = x.intersection(y) \n",
    "\n",
    "print(z)"
   ]
  },
  {
   "cell_type": "markdown",
   "id": "c30c2bcd-fa30-428a-8d17-3b4a670e8c27",
   "metadata": {},
   "source": [
    "## 71. Set Union:"
   ]
  },
  {
   "cell_type": "code",
   "execution_count": 16,
   "id": "dcd02582-a00c-47b1-970f-fe5660619ba7",
   "metadata": {},
   "outputs": [
    {
     "name": "stdout",
     "output_type": "stream",
     "text": [
      "{'google', 'banana', 'cherry', 'microsoft', 'apple'}\n"
     ]
    }
   ],
   "source": [
    "x = {\"apple\", \"banana\", \"cherry\"}\n",
    "y = {\"google\", \"microsoft\", \"apple\"}\n",
    "\n",
    "z = x.union(y)\n",
    "\n",
    "print(z)"
   ]
  },
  {
   "cell_type": "markdown",
   "id": "ec9d03e1-4da8-4c88-9241-d5035dd586b3",
   "metadata": {},
   "source": [
    "## 72. Set Difference:"
   ]
  },
  {
   "cell_type": "code",
   "execution_count": 17,
   "id": "d74bf6a3-ceb5-40a4-86cf-1331e5f664b4",
   "metadata": {},
   "outputs": [
    {
     "name": "stdout",
     "output_type": "stream",
     "text": [
      "{'banana', 'cherry'}\n"
     ]
    }
   ],
   "source": [
    "x = {\"apple\", \"banana\", \"cherry\"}\n",
    "y = {\"google\", \"microsoft\", \"apple\"}\n",
    "\n",
    "z = x.difference(y)\n",
    "\n",
    "print(z)"
   ]
  },
  {
   "cell_type": "markdown",
   "id": "4a78f1de-bd6a-4371-8af6-bc688c8e854e",
   "metadata": {},
   "source": [
    "## 73. Set Symmetric Difference:"
   ]
  },
  {
   "cell_type": "code",
   "execution_count": 18,
   "id": "d70c0882-04da-4462-9b33-3985365e8286",
   "metadata": {},
   "outputs": [
    {
     "name": "stdout",
     "output_type": "stream",
     "text": [
      "{'google', 'microsoft', 'banana', 'cherry'}\n"
     ]
    }
   ],
   "source": [
    "x = {\"apple\", \"banana\", \"cherry\"}\n",
    "y = {\"google\", \"microsoft\", \"apple\"}\n",
    "\n",
    "z = x.symmetric_difference(y)\n",
    "\n",
    "print(z)"
   ]
  },
  {
   "cell_type": "markdown",
   "id": "ce417770-2c44-4738-8adc-549913c53ed3",
   "metadata": {},
   "source": [
    "## 74. Set Operations: "
   ]
  },
  {
   "cell_type": "code",
   "execution_count": 20,
   "id": "081127e9-4169-4e1a-938a-ab8b06c91ab9",
   "metadata": {},
   "outputs": [
    {
     "name": "stdout",
     "output_type": "stream",
     "text": [
      "{20}\n",
      "{20, 70, 40, 60, 30}\n",
      "{70, 30}\n"
     ]
    }
   ],
   "source": [
    "a = {10, 50, 20}\n",
    "b = {40, 60, 20}\n",
    "c = {30, 70, 20}\n",
    "\n",
    "\n",
    "z = a.intersection(b) \n",
    "print(z)\n",
    "\n",
    "w = b.union(c)\n",
    "print(w)\n",
    "\n",
    "\n",
    "x = c.difference(a)\n",
    "\n",
    "print(x)"
   ]
  },
  {
   "cell_type": "markdown",
   "id": "dff6b725-89bc-471a-83e6-3be23443371c",
   "metadata": {},
   "source": [
    "## 75. Set Subset Check: "
   ]
  },
  {
   "cell_type": "code",
   "execution_count": 21,
   "id": "6f05d3d5-9f01-45c1-900e-052d230a9d0b",
   "metadata": {},
   "outputs": [
    {
     "name": "stdout",
     "output_type": "stream",
     "text": [
      "True\n"
     ]
    }
   ],
   "source": [
    "A = {1, 2, 3}\n",
    "B = {1, 2, 3, 4, 5}\n",
    "\n",
    "# all items of A are present in B\n",
    "print(A.issubset(B))\n"
   ]
  },
  {
   "cell_type": "markdown",
   "id": "f04698d7-fc76-41f3-8482-32f6e9360398",
   "metadata": {},
   "source": [
    "## 76. Set Superset Check: "
   ]
  },
  {
   "cell_type": "code",
   "execution_count": 22,
   "id": "f2015c0b-dfe5-4594-be95-3efde1ef060d",
   "metadata": {},
   "outputs": [
    {
     "name": "stdout",
     "output_type": "stream",
     "text": [
      "True\n"
     ]
    }
   ],
   "source": [
    "x = {\"f\", \"e\", \"d\", \"c\", \"b\", \"a\"}\n",
    "y = {\"a\", \"b\", \"c\"}\n",
    "\n",
    "z = x.issuperset(y)\n",
    "\n",
    "print(z)"
   ]
  },
  {
   "cell_type": "markdown",
   "id": "76250c52-f2bb-4822-91bc-c8bf4ceaefde",
   "metadata": {},
   "source": [
    "## 77. Set Length Check:"
   ]
  },
  {
   "cell_type": "code",
   "execution_count": 23,
   "id": "ed93a9fd-6947-4a2b-b018-0500bd477676",
   "metadata": {},
   "outputs": [
    {
     "name": "stdout",
     "output_type": "stream",
     "text": [
      "3\n"
     ]
    }
   ],
   "source": [
    "thisset = {\"apple\", \"banana\", \"cherry\"}\n",
    "\n",
    "print(len(thisset))"
   ]
  },
  {
   "cell_type": "markdown",
   "id": "23a00e21-9abe-4101-a0fd-758866d62f6f",
   "metadata": {},
   "source": [
    "## 76. Set Membership Test:"
   ]
  },
  {
   "cell_type": "code",
   "execution_count": 25,
   "id": "6bd10476-d409-4f7c-9404-a6b7613defeb",
   "metadata": {},
   "outputs": [
    {
     "name": "stdout",
     "output_type": "stream",
     "text": [
      "Element found in the set\n"
     ]
    }
   ],
   "source": [
    "# Create a set\n",
    "my_set = {1, 2, 3, 4, 5}\n",
    "\n",
    "# Check if an element is in the set\n",
    "if 3 in my_set:\n",
    "    print(\"Element found in the set\")\n",
    "else:\n",
    "    print(\"Element not found in the set\")"
   ]
  },
  {
   "cell_type": "markdown",
   "id": "6efbdf0b-166a-4589-a309-a8fcd23b9e9f",
   "metadata": {},
   "source": [
    "# Dictionary Problems:\n",
    "\n",
    "## 77. Dictionary Manipulation: "
   ]
  },
  {
   "cell_type": "code",
   "execution_count": 26,
   "id": "d05792c1-1a2e-40ac-8050-e43bfb107082",
   "metadata": {},
   "outputs": [
    {
     "name": "stdin",
     "output_type": "stream",
     "text": [
      "Enter the number of students:  2\n",
      "Enter roll number:  1\n",
      "Enter name:  A\n",
      "Enter marks:  30\n",
      "Enter roll number:  2\n",
      "Enter name:  B\n",
      "Enter marks:  40\n"
     ]
    },
    {
     "name": "stdout",
     "output_type": "stream",
     "text": [
      "Students with marks above 75:\n"
     ]
    }
   ],
   "source": [
    "# Create an empty dictionary \n",
    "student_dict = {} \n",
    " \n",
    "# Get the number of students \n",
    "n = int(input(\"Enter the number of students: \")) \n",
    " \n",
    "# Iterate over the range of students \n",
    "for i in range(n): \n",
    "    name = input(\"Enter name: \") \n",
    "    marks = float(input(\"Enter marks: \")) \n",
    "     \n",
    "    # Add the student details to the dictionary \n",
    "    student_dict[roll_number] = {'name': name, 'marks': marks} \n",
    " \n",
    "# Display the names of students with marks above 75 \n",
    "print(\"Students with marks above 75:\") \n",
    "for roll_number, student in student_dict.items(): \n",
    "    if student['marks'] > 75: \n",
    "        print(student['name']) "
   ]
  },
  {
   "cell_type": "markdown",
   "id": "eb7eb8db-0c23-4dda-b7e8-c94da6d93847",
   "metadata": {},
   "source": [
    "## 78. Dictionary Keys and Values:"
   ]
  },
  {
   "cell_type": "code",
   "execution_count": 27,
   "id": "64cd3a78-61cb-49b5-962e-dd016c8be0b2",
   "metadata": {},
   "outputs": [
    {
     "name": "stdout",
     "output_type": "stream",
     "text": [
      "intial_dictionary {'a': 'akshat', 'b': 'bhuvan', 'c': 'chandan'}\n",
      "keys :  dict_keys(['a', 'b', 'c'])\n",
      "values :  dict_values(['akshat', 'bhuvan', 'chandan'])\n"
     ]
    }
   ],
   "source": [
    "# initialising _dictionary\n",
    "ini_dict = {'a': 'akshat', 'b': 'bhuvan', 'c': 'chandan'}\n",
    "\n",
    "# printing initial_dictionary\n",
    "print(\"intial_dictionary\", str(ini_dict))\n",
    "\n",
    "# split dictionary into keys and values\n",
    "keys = ini_dict.keys()\n",
    "values = ini_dict.values()\n",
    "\n",
    "# printing keys and values separately\n",
    "print(\"keys : \", str(keys))\n",
    "print(\"values : \", str(values))\n"
   ]
  },
  {
   "cell_type": "markdown",
   "id": "9535388a-9bd9-4911-8f06-51637d381743",
   "metadata": {},
   "source": [
    "## 79. Dictionary Length:"
   ]
  },
  {
   "cell_type": "code",
   "execution_count": 28,
   "id": "1aa49d23-10ee-4acb-b313-e2988c42af4c",
   "metadata": {},
   "outputs": [
    {
     "name": "stdout",
     "output_type": "stream",
     "text": [
      "3\n"
     ]
    }
   ],
   "source": [
    "print(len(ini_dict))"
   ]
  },
  {
   "cell_type": "markdown",
   "id": "3379528f-17b6-4b54-b42d-e2cca6196993",
   "metadata": {},
   "source": [
    "## 80. Dictionary Value Search: "
   ]
  },
  {
   "cell_type": "code",
   "execution_count": 30,
   "id": "78d0677a-ff07-4cf6-a6e7-4bdafbd48708",
   "metadata": {},
   "outputs": [
    {
     "name": "stdout",
     "output_type": "stream",
     "text": [
      "The filtered dictionary value is : {'Item': 'A', 'Price': '20'}\n"
     ]
    }
   ],
   "source": [
    "# Initialize list\n",
    "test_list = [\n",
    "\t{'Item': \"A\", 'Price': \"20\"},\n",
    "\t{'Item': \"B\", 'Price': \"30\"},\n",
    "\t{'Item': \"C\", 'Price': \"40\"}]\n",
    "\n",
    "# Find dictionary matching value in list\n",
    "res = None\n",
    "for sub in test_list:\n",
    "\tif sub['Price'] == \"20\":\n",
    "\t\tres = sub\n",
    "\t\tbreak\n",
    "\n",
    "# printing result\n",
    "print(\"The filtered dictionary value is : \" + str(res))\n"
   ]
  },
  {
   "cell_type": "markdown",
   "id": "62ba70bd-1f12-409a-b8e5-6a29299c5c5e",
   "metadata": {},
   "source": [
    "## 81. Dictionary Merging"
   ]
  },
  {
   "cell_type": "code",
   "execution_count": 31,
   "id": "4d5d0636-7e46-4da9-87dc-586c10a8fd5a",
   "metadata": {},
   "outputs": [
    {
     "name": "stdout",
     "output_type": "stream",
     "text": [
      "{'x': 1, 'y': 3, 'z': 4}\n"
     ]
    }
   ],
   "source": [
    "d1 = {'x': 1, 'y': 2}\n",
    "d2 = {'y': 3, 'z': 4}\n",
    "\n",
    "d1.update(d2)\n",
    "print(d1)"
   ]
  },
  {
   "cell_type": "markdown",
   "id": "887a7eab-3c57-49bc-a986-09c60e97559c",
   "metadata": {},
   "source": [
    "## 82. Dictionary Key Removal:"
   ]
  },
  {
   "cell_type": "code",
   "execution_count": 34,
   "id": "335cb279-2d0c-4e9c-98d9-27a39b57dff8",
   "metadata": {},
   "outputs": [
    {
     "name": "stdout",
     "output_type": "stream",
     "text": [
      "The dictionary before performingremove is : {'A': 22, 'B': 21, 'C': 21, 'D': 21}\n",
      "The dictionary after remove is : {'A': 22, 'B': 21, 'C': 21, 'D': 21}\n"
     ]
    }
   ],
   "source": [
    "# Initializing dictionary\n",
    "test_dict = {\"A\": 22, \"B\": 21, \n",
    "             \"C\": 21, \"D\": 21}\n",
    "\n",
    "# Printing dictionary before removal\n",
    "print(\"The dictionary before performing\\\n",
    "remove is : \" + str(test_dict))\n",
    "\n",
    "# Using items() + dict comprehension to remove a dict. pair\n",
    "# removes Mani\n",
    "new_dict = {key: val for key, \n",
    "            val in test_dict.items() if key != 'Mani'}\n",
    "\n",
    "# Printing dictionary after removal\n",
    "print(\"The dictionary after remove is : \" + str(new_dict))"
   ]
  },
  {
   "cell_type": "markdown",
   "id": "0015c658-25df-4e62-803c-7f7afc314f00",
   "metadata": {},
   "source": [
    "## 83. Dictionary Sorting:"
   ]
  },
  {
   "cell_type": "code",
   "execution_count": 36,
   "id": "9d4fb0c1-ebf9-4999-b3b6-ecfc594127dc",
   "metadata": {},
   "outputs": [
    {
     "name": "stdout",
     "output_type": "stream",
     "text": [
      "{'rajnish': 9, 'ravi': 10, 'sanjeev': 15}\n"
     ]
    }
   ],
   "source": [
    "d = {'ravi': 10, 'rajnish': 9, 'sanjeev': 15}\n",
    "\n",
    "myKeys = list(d.keys())\n",
    "myKeys.sort()\n",
    "\n",
    "# Sorted Dictionary\n",
    "sd = {i: d[i] for i in myKeys}\n",
    "print(sd)"
   ]
  },
  {
   "cell_type": "markdown",
   "id": "45fb2004-605d-4e03-a1db-35839a6a168b",
   "metadata": {},
   "source": [
    "## 84. Dictionary Frequency Count:"
   ]
  },
  {
   "cell_type": "code",
   "execution_count": 37,
   "id": "9c394b62-975f-432d-8775-1f6f9828b57a",
   "metadata": {},
   "outputs": [
    {
     "name": "stdout",
     "output_type": "stream",
     "text": [
      "{'G': 2, 'e': 4, 'k': 2, 's': 2, 'f': 1, 'o': 1, 'r': 1}\n"
     ]
    }
   ],
   "source": [
    "s = \"GeeksforGeeks\"\n",
    "freq = {}\n",
    "\n",
    "for c in s:\n",
    "    if c in freq:\n",
    "        freq[c] += 1\n",
    "    else:\n",
    "        freq[c] = 1\n",
    "\n",
    "print(freq)"
   ]
  },
  {
   "cell_type": "markdown",
   "id": "73337028-9c3e-400d-9108-0b14a1e633ac",
   "metadata": {},
   "source": [
    "## 85. Dictionary Comprehension:"
   ]
  },
  {
   "cell_type": "code",
   "execution_count": 38,
   "id": "dd98da6d-5347-431c-9ad6-293e66ea11a3",
   "metadata": {},
   "outputs": [
    {
     "name": "stdout",
     "output_type": "stream",
     "text": [
      "{'a': 1, 'b': 2, 'c': 3, 'd': 4, 'e': 5}\n"
     ]
    }
   ],
   "source": [
    "\n",
    "keys = ['a','b','c','d','e']\n",
    "values = [1,2,3,4,5]  \n",
    "\n",
    "# but this line shows dict comprehension here  \n",
    "myDict = { k:v for (k,v) in zip(keys, values)}  \n",
    "\n",
    "\n",
    "print (myDict)"
   ]
  },
  {
   "cell_type": "markdown",
   "id": "0eb9a85f-bd65-4d35-9e6d-4e362df3fe3a",
   "metadata": {},
   "source": [
    "## 86. Dictionary Key Check:"
   ]
  },
  {
   "cell_type": "code",
   "execution_count": 40,
   "id": "06050d41-0060-435f-bab1-7419487eecb5",
   "metadata": {},
   "outputs": [
    {
     "name": "stdout",
     "output_type": "stream",
     "text": [
      "Found\n"
     ]
    }
   ],
   "source": [
    "d = {'a': 100, 'b':200, 'c':300}\n",
    "\n",
    "# check if \"b\" is none or not.\n",
    "if d.get('b') == None:\n",
    "  print(\"Not Found\")\n",
    "else:\n",
    "  print(\"Found\")"
   ]
  },
  {
   "cell_type": "markdown",
   "id": "a68ac02e-f5eb-4f22-9ef1-d7ba69528ede",
   "metadata": {},
   "source": [
    "# Nested Dictionary Problems:\n",
    "\n",
    "## 87. Access Nested Dictionary: "
   ]
  },
  {
   "cell_type": "code",
   "execution_count": 42,
   "id": "b061cafa-1593-407d-8e7f-39a87495b482",
   "metadata": {},
   "outputs": [
    {
     "name": "stdout",
     "output_type": "stream",
     "text": [
      "23\n"
     ]
    }
   ],
   "source": [
    "nd = {\n",
    "    \"name\": {\n",
    "        \"Sad\": {\n",
    "            \"age\": \"23\"\n",
    "        }}}\n",
    "\n",
    "# Accessing the value\n",
    "color = nd[\"name\"][\"Sad\"][\"age\"]\n",
    "print(color)"
   ]
  },
  {
   "cell_type": "markdown",
   "id": "87b2b93a-e76b-4f4b-bc7f-8dabaa999e64",
   "metadata": {},
   "source": [
    "## 88. Nested Dictionary Length:"
   ]
  },
  {
   "cell_type": "code",
   "execution_count": 2,
   "id": "c53d35a1-31d1-4b33-bb70-eea929693cc0",
   "metadata": {},
   "outputs": [
    {
     "name": "stdout",
     "output_type": "stream",
     "text": [
      "3\n"
     ]
    }
   ],
   "source": [
    "d ={'Name':'Steve', 'Age':30, 'Designation':'Programmer'}\n",
    "\n",
    "print(len(d))"
   ]
  },
  {
   "cell_type": "markdown",
   "id": "456d6114-85ce-4020-9f68-959f3a2c8f37",
   "metadata": {},
   "source": [
    "## 89. Nested Dictionary Update: "
   ]
  },
  {
   "cell_type": "code",
   "execution_count": 3,
   "id": "ed4e9a9a-23bc-4e27-bedf-70172d27e4d6",
   "metadata": {},
   "outputs": [
    {
     "name": "stdin",
     "output_type": "stream",
     "text": [
      "Employee id : Id-1\n",
      "Attribute to be updated : salary\n",
      "New value : 30000\n"
     ]
    },
    {
     "name": "stdout",
     "output_type": "stream",
     "text": [
      "{'Id-1': {'name': 'Lisa', 'age': '29', 'Designation': 'Programmer', 'salary': '30000'}, 'Id-2': {'name': 'Steve', 'age': '25', 'Designation': 'HR'}}\n"
     ]
    }
   ],
   "source": [
    "# an employee record \n",
    "Employee = { \n",
    "\t'Id-1': { \n",
    "\t\t'name': 'Lisa', \n",
    "\t\t'age': '29', \n",
    "\t\t'salary':'25000'\n",
    "\t\t\t}, \n",
    "\t\t'Id-2': { \n",
    "\t\t\t'name': 'Steve', \n",
    "\t\t\t'age': '25', \n",
    "\t\t\t'salary':'20000'\n",
    "\t\t\t\t} \n",
    "\t\t\t} \n",
    "\n",
    "\n",
    "# employee he needs to update \n",
    "empid = input(\"Employee id :\") \n",
    "\n",
    "# which attribute / key to update \n",
    "attribute = input(\"Attribute to be updated :\") \n",
    "\n",
    "# what value to update \n",
    "new_value = input(\"New value :\") \n",
    "\n",
    "# updation of the dictionary \n",
    "Employee[empid][attribute]= new_value \n",
    "\n",
    "\n",
    "print(Employee) \n"
   ]
  },
  {
   "cell_type": "markdown",
   "id": "ee348e4d-99e8-4fe6-9a91-6200d738823c",
   "metadata": {},
   "source": [
    "## 90. Nested Dictionary Sorting:"
   ]
  },
  {
   "cell_type": "code",
   "execution_count": 4,
   "id": "439a4ad8-3fd8-4396-a7f6-4ee9dad8e8c7",
   "metadata": {},
   "outputs": [
    {
     "name": "stdout",
     "output_type": "stream",
     "text": [
      "{'b': {'key': 1}, 'c': {'key': 2}, 'a': {'key': 3}}\n"
     ]
    }
   ],
   "source": [
    "nested_dict = {'a': {'key': 3}, 'b': {'key': 1}, 'c': {'key': 2}}\n",
    "\n",
    "sorted_dict = dict(\n",
    "    sorted(nested_dict.items(), key=lambda item: item[1]['key']))\n",
    "\n",
    "print(sorted_dict)"
   ]
  },
  {
   "cell_type": "markdown",
   "id": "b59d1197-7be0-4897-80cf-c6a7c3eef649",
   "metadata": {},
   "source": [
    "## 91. Nested Dictionary Key Search:"
   ]
  },
  {
   "cell_type": "code",
   "execution_count": 2,
   "id": "1492e62e-563b-4129-afd3-8a341ad77101",
   "metadata": {},
   "outputs": [
    {
     "name": "stdout",
     "output_type": "stream",
     "text": [
      "red\n"
     ]
    }
   ],
   "source": [
    "\n",
    "nd = {\n",
    "    \"fruit\": {\n",
    "        \"apple\": {\n",
    "            \"color\": \"red\"\n",
    "        }}}\n",
    "\n",
    "# Accessing the value\n",
    "color = nd[\"fruit\"][\"apple\"][\"color\"]\n",
    "\n",
    "print(color) \n",
    "\n",
    "\n"
   ]
  },
  {
   "cell_type": "markdown",
   "id": "084d8319-c7e1-4ff9-a9c8-3ea6ff4317f3",
   "metadata": {},
   "source": [
    "# Break & Continue: \n",
    "## 92. Prime Number Checker:"
   ]
  },
  {
   "cell_type": "code",
   "execution_count": 3,
   "id": "d52b199f-5754-42be-8c4d-53067d78c833",
   "metadata": {},
   "outputs": [
    {
     "name": "stdout",
     "output_type": "stream",
     "text": [
      "11 is a prime number\n"
     ]
    }
   ],
   "source": [
    "num = 11\n",
    "# Negative numbers, 0 and 1 are not primes\n",
    "if num > 1:\n",
    "  \n",
    "    # Iterate from 2 to n // 2\n",
    "    for i in range(2, (num//2)+1):\n",
    "      \n",
    "        # If num is divisible by any number between\n",
    "        # 2 and n / 2, it is not prime\n",
    "        if (num % i) == 0:\n",
    "            print(num, \"is not a prime number\")\n",
    "            break\n",
    "    else:\n",
    "        print(num, \"is a prime number\")\n",
    "else:\n",
    "    print(num, \"is not a prime number\")"
   ]
  },
  {
   "cell_type": "markdown",
   "id": "0d1ce4f5-ea80-4c18-ad83-9e344f161c14",
   "metadata": {},
   "source": [
    "## 93. Even Number Printer: "
   ]
  },
  {
   "cell_type": "code",
   "execution_count": 4,
   "id": "66e7f37e-c5d9-4323-be8a-175022fd55a5",
   "metadata": {},
   "outputs": [
    {
     "name": "stdout",
     "output_type": "stream",
     "text": [
      "Even numbers:\n",
      "2\n",
      "4\n",
      "6\n",
      "8\n",
      "10\n",
      "12\n",
      "14\n",
      "16\n",
      "18\n",
      "20\n",
      "\n",
      "Odd numbers:\n",
      "1\n",
      "3\n",
      "5\n",
      "7\n",
      "9\n",
      "11\n",
      "13\n",
      "15\n",
      "17\n",
      "19\n"
     ]
    }
   ],
   "source": [
    "# Print even numbers from 1 to 20 \n",
    "print(\"Even numbers:\") \n",
    "for num in range(1, 21): \n",
    "    if num % 2 == 0: \n",
    "        print(num) \n",
    " \n",
    "# Print odd numbers from 1 to 20 \n",
    "print(\"\\nOdd numbers:\") \n",
    "for num in range(1, 21): \n",
    "    if num % 2 != 0: \n",
    "        print(num) "
   ]
  },
  {
   "cell_type": "markdown",
   "id": "97f33d60-b972-45d4-a188-4c61d0f2075f",
   "metadata": {},
   "source": [
    "## 94. Password Validator: "
   ]
  },
  {
   "cell_type": "code",
   "execution_count": 6,
   "id": "c1731974-820d-4e3d-91bc-d72f127a64cf",
   "metadata": {},
   "outputs": [
    {
     "name": "stdout",
     "output_type": "stream",
     "text": [
      "Password is valid\n"
     ]
    }
   ],
   "source": [
    "# Password validation in Python\n",
    "# using naive method\n",
    "\n",
    "# Function to validate the password\n",
    "def password_check(passwd):\n",
    "\t\n",
    "\tSpecialSym =['$', '@', '#', '%']\n",
    "\tval = True\n",
    "\t\n",
    "\tif len(passwd) < 6:\n",
    "\t\tprint('length should be at least 6')\n",
    "\t\tval = False\n",
    "\t\t\n",
    "\tif len(passwd) > 20:\n",
    "\t\tprint('length should be not be greater than 8')\n",
    "\t\tval = False\n",
    "\t\t\n",
    "\tif not any(char.isdigit() for char in passwd):\n",
    "\t\tprint('Password should have at least one numeral')\n",
    "\t\tval = False\n",
    "\t\t\n",
    "\tif not any(char.isupper() for char in passwd):\n",
    "\t\tprint('Password should have at least one uppercase letter')\n",
    "\t\tval = False\n",
    "\t\t\n",
    "\tif not any(char.islower() for char in passwd):\n",
    "\t\tprint('Password should have at least one lowercase letter')\n",
    "\t\tval = False\n",
    "\t\t\n",
    "\tif not any(char in SpecialSym for char in passwd):\n",
    "\t\tprint('Password should have at least one of the symbols $@#')\n",
    "\t\tval = False\n",
    "\tif val:\n",
    "\t\treturn val\n",
    "\n",
    "# Main method\n",
    "def main():\n",
    "\tpasswd = 'Geek12@'\n",
    "\t\n",
    "\tif (password_check(passwd)):\n",
    "\t\tprint(\"Password is valid\")\n",
    "\telse:\n",
    "\t\tprint(\"Invalid Password !!\")\n",
    "\t\t\n",
    "# Driver Code\t \n",
    "if __name__ == '__main__':\n",
    "\tmain()\n"
   ]
  },
  {
   "cell_type": "markdown",
   "id": "e64e8dee-3b40-4014-ba18-6829676b3f8d",
   "metadata": {},
   "source": [
    "## 95. Divisible by 3 or 5:"
   ]
  },
  {
   "cell_type": "code",
   "execution_count": 11,
   "id": "e475b9ff-24a7-4070-97c5-3d3b7e4f136b",
   "metadata": {},
   "outputs": [
    {
     "name": "stdout",
     "output_type": "stream",
     "text": [
      "0 15 30 45 "
     ]
    }
   ],
   "source": [
    "\n",
    "n=50\n",
    "for i in range(0,n):\n",
    "# lcm of 3 and 5 is 15 \n",
    "    if i%15==0:\n",
    "        print(i,end=\" \")\n"
   ]
  },
  {
   "cell_type": "markdown",
   "id": "d34ffa35-1c2a-4de9-9b52-7cb93993c2df",
   "metadata": {},
   "source": [
    "## 96. Positive Number Sum:"
   ]
  },
  {
   "cell_type": "code",
   "execution_count": 12,
   "id": "5ecd19dd-8da7-47fa-af8b-c1a356e72307",
   "metadata": {},
   "outputs": [
    {
     "name": "stdin",
     "output_type": "stream",
     "text": [
      "enter a number:  4\n"
     ]
    },
    {
     "name": "stdout",
     "output_type": "stream",
     "text": [
      "4\n"
     ]
    },
    {
     "name": "stdin",
     "output_type": "stream",
     "text": [
      "enter a number:  4\n"
     ]
    },
    {
     "name": "stdout",
     "output_type": "stream",
     "text": [
      "8\n"
     ]
    },
    {
     "name": "stdin",
     "output_type": "stream",
     "text": [
      "enter a number:  5\n"
     ]
    },
    {
     "name": "stdout",
     "output_type": "stream",
     "text": [
      "13\n"
     ]
    },
    {
     "name": "stdin",
     "output_type": "stream",
     "text": [
      "enter a number:  -5\n"
     ]
    }
   ],
   "source": [
    "summ = 0\n",
    "while True:\n",
    "    a = int(input(\"enter a number: \"))\n",
    "    if a < 0:\n",
    "        break\n",
    "    summ = summ + a\n",
    "    print(summ)"
   ]
  },
  {
   "cell_type": "markdown",
   "id": "a7d64fd1-3156-410b-9340-c9e8f64372e4",
   "metadata": {},
   "source": [
    "## 97. Word Palindrome Checker:"
   ]
  },
  {
   "cell_type": "code",
   "execution_count": 13,
   "id": "2555cda3-b367-4a63-be0b-fef44ef012e0",
   "metadata": {},
   "outputs": [
    {
     "name": "stdout",
     "output_type": "stream",
     "text": [
      "Yes\n"
     ]
    }
   ],
   "source": [
    "# function which return reverse of a string\n",
    "\n",
    "def isPalindrome(s):\n",
    "    return s == s[::-1]\n",
    "\n",
    "\n",
    "# Driver code\n",
    "s = \"malayalam\"\n",
    "ans = isPalindrome(s)\n",
    "\n",
    "if ans:\n",
    "    print(\"Yes\")\n",
    "else:\n",
    "    print(\"No\")"
   ]
  },
  {
   "cell_type": "markdown",
   "id": "db4bba90-b900-49be-b3c3-2200088b925d",
   "metadata": {},
   "source": [
    "## 98. Odd Number Finder:"
   ]
  },
  {
   "cell_type": "code",
   "execution_count": 14,
   "id": "a6b3bbbd-b0f7-4574-a8a2-97dc89e3b81a",
   "metadata": {},
   "outputs": [
    {
     "name": "stdout",
     "output_type": "stream",
     "text": [
      "15\n",
      "23\n",
      "37\n",
      "51\n",
      "5\n"
     ]
    }
   ],
   "source": [
    "a = [10, 15, 23, 42, 37, 51, 62, 5]\n",
    "\n",
    "# Using a for loop to print odd numbers\n",
    "for i in a:\n",
    "    if i % 2 != 0:\n",
    "        print(i)\n",
    "        "
   ]
  },
  {
   "cell_type": "markdown",
   "id": "35424eb1-1076-4cf5-b2f4-d782bfb770c6",
   "metadata": {},
   "source": [
    "## 99. Number Guessing Game:"
   ]
  },
  {
   "cell_type": "code",
   "execution_count": 2,
   "id": "5fc587bf-a0c1-40a0-86bc-7a66d2b25fef",
   "metadata": {},
   "outputs": [
    {
     "name": "stdout",
     "output_type": "stream",
     "text": [
      "Let's play a guessing game.  I'm thinking of a number between 0-100. Take a guess what it is\n"
     ]
    },
    {
     "name": "stdin",
     "output_type": "stream",
     "text": [
      " 70\n"
     ]
    },
    {
     "name": "stdout",
     "output_type": "stream",
     "text": [
      "Its lower than that! Guess again!\n"
     ]
    },
    {
     "name": "stdin",
     "output_type": "stream",
     "text": [
      " 50\n"
     ]
    },
    {
     "name": "stdout",
     "output_type": "stream",
     "text": [
      "You got it!\n"
     ]
    }
   ],
   "source": [
    "from random import randint\n",
    "randomNum = 50 #randint(0,100)\n",
    "print(\"Let's play a guessing game.  I'm thinking of a number between 0-100. Take a guess what it is\") \n",
    "num = int(input()) \n",
    "if(num == randomNum):\n",
    "    print(\"Wow, what fantastic luck!  You're right!\")\n",
    "while (randomNum > num):\n",
    "    print('Its higher than that. Guess again!')\n",
    "    num = int(input())\n",
    "    while (num == randomNum):\n",
    "        print(\"You got it!\")\n",
    "        break\n",
    "\n",
    "while (randomNum < num):\n",
    "    print('Its lower than that! Guess again!')\n",
    "    num = int(input())\n",
    "    while (num == randomNum):\n",
    "        print(\"You got it!\")\n",
    "        break"
   ]
  },
  {
   "cell_type": "markdown",
   "id": "cdc1a1eb-4bf2-407a-a9fc-95142f7e57cc",
   "metadata": {},
   "source": [
    "## 100. Vowel Counter:"
   ]
  },
  {
   "cell_type": "code",
   "execution_count": 3,
   "id": "f03b8804-1069-4d54-9f6d-7356753bfa54",
   "metadata": {},
   "outputs": [
    {
     "name": "stdout",
     "output_type": "stream",
     "text": [
      "5\n"
     ]
    }
   ],
   "source": [
    "string = \"GeekforGeeks!\"\n",
    "vowels = \"aeiouAEIOU\"\n",
    "\n",
    "count = sum(string.count(vowel) for vowel in vowels)\n",
    "print(count)\n"
   ]
  },
  {
   "cell_type": "markdown",
   "id": "ddad302c-ebc5-47da-963e-4c4202253481",
   "metadata": {},
   "source": [
    "## 101. Unique Characters:"
   ]
  },
  {
   "cell_type": "code",
   "execution_count": 5,
   "id": "b6fbbc4a-5fa8-4bf1-b6ac-c02ee6d4d87e",
   "metadata": {},
   "outputs": [
    {
     "name": "stdout",
     "output_type": "stream",
     "text": [
      "7\n"
     ]
    }
   ],
   "source": [
    "S = \"geeksforgeeks\"\n",
    "a = \"\"\n",
    "for i in S:\n",
    "\tif i not in a:\n",
    "\t\ta += i\n",
    "print(len(a))\n"
   ]
  },
  {
   "cell_type": "markdown",
   "id": "153b1a08-2159-4f16-82f8-49a166be9d5f",
   "metadata": {},
   "source": [
    "# Functions Problems:\n",
    "## 102. Factorial Calculator: "
   ]
  },
  {
   "cell_type": "code",
   "execution_count": 6,
   "id": "c7c91353-750b-4b60-b637-39c78e2bfecc",
   "metadata": {},
   "outputs": [
    {
     "name": "stdout",
     "output_type": "stream",
     "text": [
      "The factorial of 6 is 720\n"
     ]
    }
   ],
   "source": [
    "# Input: An integer number\n",
    "num = 6\n",
    "\n",
    "# Initialize the factorial variable to 1\n",
    "factorial = 1\n",
    "\n",
    "# Calculate the factorial using a for loop\n",
    "for i in range(1, num + 1):\n",
    "    factorial *= i\n",
    "\n",
    "# Output: The factorial of the number\n",
    "print(f\"The factorial of {num} is {factorial}\")"
   ]
  },
  {
   "cell_type": "markdown",
   "id": "7f357ff3-2136-47eb-93da-d4fdeb18ccb8",
   "metadata": {},
   "source": [
    "## 103. Palindrome Checker:\n"
   ]
  },
  {
   "cell_type": "code",
   "execution_count": 8,
   "id": "bef2d033-a4b6-4229-bed9-4f8a1ec4c22b",
   "metadata": {},
   "outputs": [
    {
     "name": "stdout",
     "output_type": "stream",
     "text": [
      "True\n"
     ]
    }
   ],
   "source": [
    "# function which return reverse of a string\n",
    "\n",
    "def isPalindrome(s):\n",
    "    return s == s[::-1]\n",
    "\n",
    "\n",
    "# Driver code\n",
    "s = \"malayalam\"\n",
    "ans = isPalindrome(s)\n",
    "\n",
    "if ans:\n",
    "    print(\"True\")\n",
    "else:\n",
    "    print(\"Fslse\")"
   ]
  },
  {
   "cell_type": "markdown",
   "id": "38c3b883-9264-4333-b2f1-0951ca316cbd",
   "metadata": {},
   "source": [
    "## 104. Even or Odd Checker:"
   ]
  },
  {
   "cell_type": "code",
   "execution_count": 9,
   "id": "4dd3a6a3-2098-4276-b9fb-9f6397963625",
   "metadata": {},
   "outputs": [],
   "source": [
    "def number_game(x,y):\n",
    "    if x > y:\n",
    "        return [n for n in range(y,x) if n%2==0]\n",
    "    elif y==x:\n",
    "        return []\n",
    "    else:\n",
    "        return [n for n in range(x,y) if n%2!=0]"
   ]
  },
  {
   "cell_type": "markdown",
   "id": "0d2a3824-1647-41ac-873d-5a7ae300e32d",
   "metadata": {},
   "source": [
    "## 105. List Sum Calculator:"
   ]
  },
  {
   "cell_type": "code",
   "execution_count": 9,
   "id": "d140dfa7-c144-4691-b373-d54e05116ee6",
   "metadata": {},
   "outputs": [
    {
     "name": "stdout",
     "output_type": "stream",
     "text": [
      "20\n"
     ]
    }
   ],
   "source": [
    "# Define a function named 'sum' that takes a list of numbers as input\n",
    "def sum(numbers):\n",
    "    \n",
    "    total = 0\n",
    "    \n",
    "   \n",
    "    for x in numbers:\n",
    "         total += x\n",
    "    return total\n",
    "print(sum((8, 2, 3, 0, 7))) \n"
   ]
  },
  {
   "cell_type": "markdown",
   "id": "09dee6ca-3ca5-46df-8dff-93f33225f97a",
   "metadata": {},
   "source": [
    "## 106. Greatest Common Divisor (GCD) Calculator: "
   ]
  },
  {
   "cell_type": "code",
   "execution_count": 10,
   "id": "01263222-f601-44f1-ae4a-f3d6dad57dcc",
   "metadata": {},
   "outputs": [
    {
     "name": "stdout",
     "output_type": "stream",
     "text": [
      "The gcd of 60 and 48 is : 12\n"
     ]
    }
   ],
   "source": [
    "def hcf(a, b):\n",
    "    if(b == 0):\n",
    "        return a\n",
    "    else:\n",
    "        return hcf(b, a % b)\n",
    "\n",
    "a = 60\n",
    "b = 48\n",
    "\n",
    "# prints 12\n",
    "print(\"The gcd of 60 and 48 is : \", end=\"\")\n",
    "print(hcf(60, 48))"
   ]
  },
  {
   "cell_type": "markdown",
   "id": "e1d0c8c5-24ee-45f9-9612-80f8e6eedf52",
   "metadata": {},
   "source": [
    "## 107. Leap Year Checker:"
   ]
  },
  {
   "cell_type": "code",
   "execution_count": 11,
   "id": "1522f547-0763-41df-9e33-a1c4022fc7fb",
   "metadata": {},
   "outputs": [
    {
     "name": "stdin",
     "output_type": "stream",
     "text": [
      " 1998\n"
     ]
    },
    {
     "name": "stdout",
     "output_type": "stream",
     "text": [
      "False\n"
     ]
    }
   ],
   "source": [
    "def is_leap(year):\n",
    "    leap = False\n",
    "    \n",
    "    # Write your logic here\n",
    "    if year%400==0 :\n",
    "        leap = True\n",
    "    elif year%4 == 0 and year%100 != 0:\n",
    "        leap = True\n",
    "    return leap\n",
    "\n",
    "year = int(input())\n",
    "print(is_leap(year))"
   ]
  },
  {
   "cell_type": "markdown",
   "id": "0a94921a-e569-4413-b657-7c631ce28376",
   "metadata": {},
   "source": [
    "# Nested Functions Problems:\n",
    "## 108. Math Operations: "
   ]
  },
  {
   "cell_type": "code",
   "execution_count": null,
   "id": "f11e9eb7-133a-497d-9cdf-cc46bda07a30",
   "metadata": {},
   "outputs": [],
   "source": []
  },
  {
   "cell_type": "markdown",
   "id": "3cf571f8-b68f-4888-bb15-095796ba3877",
   "metadata": {},
   "source": [
    "## 109. Greeting Generator:"
   ]
  },
  {
   "cell_type": "code",
   "execution_count": 30,
   "id": "cbd65a8f-e30e-4406-ac6e-400bbdc1f3fc",
   "metadata": {},
   "outputs": [
    {
     "name": "stdin",
     "output_type": "stream",
     "text": [
      "> What's your name?  v\n"
     ]
    },
    {
     "name": "stdout",
     "output_type": "stream",
     "text": [
      "❯ Hello, v! \n",
      "❯ How are you today?\n"
     ]
    }
   ],
   "source": [
    "import random\n",
    "greeting = ['Hello']\n",
    "hope = [\"How are you today?\"]\n",
    "name = input(\"> What's your name? \")\n",
    "value = random.choice(greeting)\n",
    "value2 = random.choice(hope)\n",
    "def greeting_generator():\n",
    "    print('❯ ' + value + ', ' + name + '! ')\n",
    "    print('❯ ' + value2)\n",
    "greeting_generator()\n"
   ]
  },
  {
   "cell_type": "markdown",
   "id": "b52c4700-69eb-426a-90ce-cd76bf2c660d",
   "metadata": {},
   "source": [
    "## 110. Temperature Converter:"
   ]
  },
  {
   "cell_type": "code",
   "execution_count": 36,
   "id": "263a87e8-8a0e-4fc2-9031-fa45afe31d39",
   "metadata": {},
   "outputs": [
    {
     "name": "stdout",
     "output_type": "stream",
     "text": [
      "11\n"
     ]
    }
   ],
   "source": [
    "def temperature_converter(value, input_scale, output_scale):\n",
    "    if input_scale == 'C':\n",
    "        if output_scale == 'F':\n",
    "            return value * 1.8 + 32\n",
    "        elif output_scale == 'K':\n",
    "            return value + 273.15\n",
    "        else:\n",
    "            return value\n",
    "    elif input_scale == 'F':\n",
    "        if output_scale == 'C':\n",
    "            return (value - 32) / 1.8\n",
    "        elif output_scale == 'K':\n",
    "            return (value + 459.67) * 5 / 9\n",
    "        else:\n",
    "            return value\n",
    "    elif input_scale == 'K':\n",
    "        if output_scale == 'C':\n",
    "            return value - 273.15\n",
    "        elif output_scale == 'F':\n",
    "            return value * 9 / 5 - 459.67\n",
    "        else:\n",
    "            return value\n",
    "    else:\n",
    "        return value\n",
    "\n",
    "print(value)"
   ]
  },
  {
   "cell_type": "markdown",
   "id": "f3c0f61d-af77-4993-a1fa-30cf08ebc4a8",
   "metadata": {},
   "source": [
    "# Recursion\n",
    "## 111. Factorial Calculation:"
   ]
  },
  {
   "cell_type": "code",
   "execution_count": 37,
   "id": "7c7527a4-d732-46fd-b849-0d4d4e01b4f2",
   "metadata": {},
   "outputs": [
    {
     "name": "stdout",
     "output_type": "stream",
     "text": [
      "The factorial of 7 is 5040\n"
     ]
    }
   ],
   "source": [
    "# Factorial of a number using recursion\n",
    "\n",
    "def recur_factorial(n):\n",
    "   if n == 1:\n",
    "       return n\n",
    "   else:\n",
    "       return n*recur_factorial(n-1)\n",
    "\n",
    "num = 7\n",
    "\n",
    "# check if the number is negative\n",
    "if num < 0:\n",
    "   print(\"Sorry, factorial does not exist for negative numbers\")\n",
    "elif num == 0:\n",
    "   print(\"The factorial of 0 is 1\")\n",
    "else:\n",
    "   print(\"The factorial of\", num, \"is\", recur_factorial(num))\n"
   ]
  },
  {
   "cell_type": "markdown",
   "id": "b7ca018d-975c-4c69-89b9-2953fa917d9b",
   "metadata": {},
   "source": [
    "## 112. Fibonacci Series:"
   ]
  },
  {
   "cell_type": "code",
   "execution_count": 38,
   "id": "003751d4-4ee8-4252-97e0-42b5d49406db",
   "metadata": {},
   "outputs": [
    {
     "name": "stdout",
     "output_type": "stream",
     "text": [
      "144 is 12th fibonacci number\n"
     ]
    }
   ],
   "source": [
    "# To find the n-th Fibonacci Number using formula\n",
    "from math import sqrt \n",
    "# import square-root method from math library\n",
    "def nthFib(n):\n",
    "    res = (((1+sqrt(5))**n)-((1-sqrt(5)))**n)/(2**n*sqrt(5))\n",
    "    # compute the n-th fibonacci number\n",
    "    print(int(res),'is',str(n)+'th fibonacci number')\n",
    "    # format and print the number\n",
    "    \n",
    "# driver code\n",
    "nthFib(12)\n",
    "\n"
   ]
  },
  {
   "cell_type": "markdown",
   "id": "64ab53b7-8dcf-4f29-bf42-c6a759113ebb",
   "metadata": {},
   "source": [
    "## 113. The sum of Digits:"
   ]
  },
  {
   "cell_type": "code",
   "execution_count": 1,
   "id": "91090341-ada3-4de2-a300-312c7ccb23c3",
   "metadata": {},
   "outputs": [
    {
     "name": "stdout",
     "output_type": "stream",
     "text": [
      "Sum of digits in 12345 is 15\n"
     ]
    }
   ],
   "source": [
    "\n",
    "def sum_of_digit( n ):\n",
    "    if n == 0:\n",
    "        return 0\n",
    "    return (n % 10 + sum_of_digit(int(n / 10)))\n",
    "\n",
    "# Driven code to check above\n",
    "num = 12345\n",
    "result = sum_of_digit(num)\n",
    "print(\"Sum of digits in\",num,\"is\", result)\n"
   ]
  },
  {
   "cell_type": "markdown",
   "id": "78deb654-1ff3-4746-a5ce-12b891e576ee",
   "metadata": {},
   "source": [
    "## 114. Binary Search:"
   ]
  },
  {
   "cell_type": "code",
   "execution_count": 2,
   "id": "63878c6e-55af-41c4-8a97-90af21d40736",
   "metadata": {},
   "outputs": [
    {
     "name": "stdout",
     "output_type": "stream",
     "text": [
      "Element is present at index 3\n"
     ]
    }
   ],
   "source": [
    "# Python 3 program for recursive binary search.\n",
    "# Modifications needed for the older Python 2 are found in comments.\n",
    "\n",
    "# Returns index of x in arr if present, else -1\n",
    "def binary_search(arr, low, high, x):\n",
    "\n",
    "\t# Check base case\n",
    "\tif high >= low:\n",
    "\n",
    "\t\tmid = (high + low) // 2\n",
    "\n",
    "\t\t# If element is present at the middle itself\n",
    "\t\tif arr[mid] == x:\n",
    "\t\t\treturn mid\n",
    "\n",
    "\t\t# If element is smaller than mid, then it can only\n",
    "\t\t# be present in left subarray\n",
    "\t\telif arr[mid] > x:\n",
    "\t\t\treturn binary_search(arr, low, mid - 1, x)\n",
    "\n",
    "\t\t# Else the element can only be present in right subarray\n",
    "\t\telse:\n",
    "\t\t\treturn binary_search(arr, mid + 1, high, x)\n",
    "\n",
    "\telse:\n",
    "\t\t# Element is not present in the array\n",
    "\t\treturn -1\n",
    "\n",
    "# Test array\n",
    "arr = [ 2, 3, 4, 10, 40 ]\n",
    "x = 10\n",
    "\n",
    "# Function call\n",
    "result = binary_search(arr, 0, len(arr)-1, x)\n",
    "\n",
    "if result != -1:\n",
    "\tprint(\"Element is present at index\", str(result))\n",
    "else:\n",
    "\tprint(\"Element is not present in array\")\n"
   ]
  },
  {
   "cell_type": "markdown",
   "id": "64cc1ffd-4efb-4d2b-b952-18173ad8a06e",
   "metadata": {},
   "source": [
    "## 115. Power Calculation: "
   ]
  },
  {
   "cell_type": "code",
   "execution_count": 6,
   "id": "e87af99e-7f8b-460e-8623-4d65fa0a3041",
   "metadata": {},
   "outputs": [
    {
     "name": "stdout",
     "output_type": "stream",
     "text": [
      "100\n"
     ]
    }
   ],
   "source": [
    "y=2\n",
    "def power(x, y):\n",
    "    if y == 1:\n",
    "        return x\n",
    "\n",
    "    else:\n",
    "        return x * power(x, y - 1)\n",
    "print(power(x, y))"
   ]
  },
  {
   "cell_type": "code",
   "execution_count": null,
   "id": "c30f236f-f1f8-4f4f-af7d-e615d7e26dd9",
   "metadata": {},
   "outputs": [],
   "source": []
  },
  {
   "cell_type": "code",
   "execution_count": null,
   "id": "6d0592ae-31a0-4792-87fc-95fee23fddb8",
   "metadata": {},
   "outputs": [],
   "source": []
  },
  {
   "cell_type": "code",
   "execution_count": null,
   "id": "4425c55c-a877-405b-ad99-f3c115a953e4",
   "metadata": {},
   "outputs": [],
   "source": []
  }
 ],
 "metadata": {
  "kernelspec": {
   "display_name": "Python 3 (ipykernel)",
   "language": "python",
   "name": "python3"
  },
  "language_info": {
   "codemirror_mode": {
    "name": "ipython",
    "version": 3
   },
   "file_extension": ".py",
   "mimetype": "text/x-python",
   "name": "python",
   "nbconvert_exporter": "python",
   "pygments_lexer": "ipython3",
   "version": "3.12.3"
  }
 },
 "nbformat": 4,
 "nbformat_minor": 5
}
